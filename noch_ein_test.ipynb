{
 "cells": [
  {
   "cell_type": "code",
   "execution_count": 1,
   "metadata": {},
   "outputs": [
    {
     "name": "stdout",
     "output_type": "stream",
     "text": [
      "Segmentation Models: using `keras` framework.\n"
     ]
    },
    {
     "name": "stderr",
     "output_type": "stream",
     "text": [
      "Failed to detect the name of this notebook, you can set it manually with the WANDB_NOTEBOOK_NAME environment variable to enable code saving.\n",
      "\u001b[34m\u001b[1mwandb\u001b[0m: Currently logged in as: \u001b[33mmarlens123\u001b[0m (\u001b[33msea-ice\u001b[0m). Use \u001b[1m`wandb login --relogin`\u001b[0m to force relogin\n"
     ]
    },
    {
     "name": "stdout",
     "output_type": "stream",
     "text": [
      "Model: \"model_1\"\n",
      "__________________________________________________________________________________________________\n",
      " Layer (type)                   Output Shape         Param #     Connected to                     \n",
      "==================================================================================================\n",
      " data (InputLayer)              [(None, 480, 480, 3  0           []                               \n",
      "                                )]                                                                \n",
      "                                                                                                  \n",
      " bn_data (BatchNormalization)   (None, 480, 480, 3)  9           ['data[0][0]']                   \n",
      "                                                                                                  \n",
      " zero_padding2d (ZeroPadding2D)  (None, 486, 486, 3)  0          ['bn_data[0][0]']                \n",
      "                                                                                                  \n",
      " conv0 (Conv2D)                 (None, 240, 240, 64  9408        ['zero_padding2d[0][0]']         \n",
      "                                )                                                                 \n",
      "                                                                                                  \n",
      " bn0 (BatchNormalization)       (None, 240, 240, 64  256         ['conv0[0][0]']                  \n",
      "                                )                                                                 \n",
      "                                                                                                  \n",
      " relu0 (Activation)             (None, 240, 240, 64  0           ['bn0[0][0]']                    \n",
      "                                )                                                                 \n",
      "                                                                                                  \n",
      " zero_padding2d_1 (ZeroPadding2  (None, 242, 242, 64  0          ['relu0[0][0]']                  \n",
      " D)                             )                                                                 \n",
      "                                                                                                  \n",
      " pooling0 (MaxPooling2D)        (None, 120, 120, 64  0           ['zero_padding2d_1[0][0]']       \n",
      "                                )                                                                 \n",
      "                                                                                                  \n",
      " stage1_unit1_bn1 (BatchNormali  (None, 120, 120, 64  256        ['pooling0[0][0]']               \n",
      " zation)                        )                                                                 \n",
      "                                                                                                  \n",
      " stage1_unit1_relu1 (Activation  (None, 120, 120, 64  0          ['stage1_unit1_bn1[0][0]']       \n",
      " )                              )                                                                 \n",
      "                                                                                                  \n",
      " zero_padding2d_2 (ZeroPadding2  (None, 122, 122, 64  0          ['stage1_unit1_relu1[0][0]']     \n",
      " D)                             )                                                                 \n",
      "                                                                                                  \n",
      " stage1_unit1_conv1 (Conv2D)    (None, 120, 120, 64  36864       ['zero_padding2d_2[0][0]']       \n",
      "                                )                                                                 \n",
      "                                                                                                  \n",
      " stage1_unit1_bn2 (BatchNormali  (None, 120, 120, 64  256        ['stage1_unit1_conv1[0][0]']     \n",
      " zation)                        )                                                                 \n",
      "                                                                                                  \n",
      " stage1_unit1_relu2 (Activation  (None, 120, 120, 64  0          ['stage1_unit1_bn2[0][0]']       \n",
      " )                              )                                                                 \n",
      "                                                                                                  \n",
      " zero_padding2d_3 (ZeroPadding2  (None, 122, 122, 64  0          ['stage1_unit1_relu2[0][0]']     \n",
      " D)                             )                                                                 \n",
      "                                                                                                  \n",
      " stage1_unit1_conv2 (Conv2D)    (None, 120, 120, 64  36864       ['zero_padding2d_3[0][0]']       \n",
      "                                )                                                                 \n",
      "                                                                                                  \n",
      " stage1_unit1_sc (Conv2D)       (None, 120, 120, 64  4096        ['stage1_unit1_relu1[0][0]']     \n",
      "                                )                                                                 \n",
      "                                                                                                  \n",
      " add (Add)                      (None, 120, 120, 64  0           ['stage1_unit1_conv2[0][0]',     \n",
      "                                )                                 'stage1_unit1_sc[0][0]']        \n",
      "                                                                                                  \n",
      " stage1_unit2_bn1 (BatchNormali  (None, 120, 120, 64  256        ['add[0][0]']                    \n",
      " zation)                        )                                                                 \n",
      "                                                                                                  \n",
      " stage1_unit2_relu1 (Activation  (None, 120, 120, 64  0          ['stage1_unit2_bn1[0][0]']       \n",
      " )                              )                                                                 \n",
      "                                                                                                  \n",
      " zero_padding2d_4 (ZeroPadding2  (None, 122, 122, 64  0          ['stage1_unit2_relu1[0][0]']     \n",
      " D)                             )                                                                 \n",
      "                                                                                                  \n",
      " stage1_unit2_conv1 (Conv2D)    (None, 120, 120, 64  36864       ['zero_padding2d_4[0][0]']       \n",
      "                                )                                                                 \n",
      "                                                                                                  \n",
      " stage1_unit2_bn2 (BatchNormali  (None, 120, 120, 64  256        ['stage1_unit2_conv1[0][0]']     \n",
      " zation)                        )                                                                 \n",
      "                                                                                                  \n",
      " stage1_unit2_relu2 (Activation  (None, 120, 120, 64  0          ['stage1_unit2_bn2[0][0]']       \n",
      " )                              )                                                                 \n",
      "                                                                                                  \n",
      " zero_padding2d_5 (ZeroPadding2  (None, 122, 122, 64  0          ['stage1_unit2_relu2[0][0]']     \n",
      " D)                             )                                                                 \n",
      "                                                                                                  \n",
      " stage1_unit2_conv2 (Conv2D)    (None, 120, 120, 64  36864       ['zero_padding2d_5[0][0]']       \n",
      "                                )                                                                 \n",
      "                                                                                                  \n",
      " add_1 (Add)                    (None, 120, 120, 64  0           ['stage1_unit2_conv2[0][0]',     \n",
      "                                )                                 'add[0][0]']                    \n",
      "                                                                                                  \n",
      " stage1_unit3_bn1 (BatchNormali  (None, 120, 120, 64  256        ['add_1[0][0]']                  \n",
      " zation)                        )                                                                 \n",
      "                                                                                                  \n",
      " stage1_unit3_relu1 (Activation  (None, 120, 120, 64  0          ['stage1_unit3_bn1[0][0]']       \n",
      " )                              )                                                                 \n",
      "                                                                                                  \n",
      " zero_padding2d_6 (ZeroPadding2  (None, 122, 122, 64  0          ['stage1_unit3_relu1[0][0]']     \n",
      " D)                             )                                                                 \n",
      "                                                                                                  \n",
      " stage1_unit3_conv1 (Conv2D)    (None, 120, 120, 64  36864       ['zero_padding2d_6[0][0]']       \n",
      "                                )                                                                 \n",
      "                                                                                                  \n",
      " stage1_unit3_bn2 (BatchNormali  (None, 120, 120, 64  256        ['stage1_unit3_conv1[0][0]']     \n",
      " zation)                        )                                                                 \n",
      "                                                                                                  \n",
      " stage1_unit3_relu2 (Activation  (None, 120, 120, 64  0          ['stage1_unit3_bn2[0][0]']       \n",
      " )                              )                                                                 \n",
      "                                                                                                  \n",
      " zero_padding2d_7 (ZeroPadding2  (None, 122, 122, 64  0          ['stage1_unit3_relu2[0][0]']     \n",
      " D)                             )                                                                 \n",
      "                                                                                                  \n",
      " stage1_unit3_conv2 (Conv2D)    (None, 120, 120, 64  36864       ['zero_padding2d_7[0][0]']       \n",
      "                                )                                                                 \n",
      "                                                                                                  \n",
      " add_2 (Add)                    (None, 120, 120, 64  0           ['stage1_unit3_conv2[0][0]',     \n",
      "                                )                                 'add_1[0][0]']                  \n",
      "                                                                                                  \n",
      " stage2_unit1_bn1 (BatchNormali  (None, 120, 120, 64  256        ['add_2[0][0]']                  \n",
      " zation)                        )                                                                 \n",
      "                                                                                                  \n",
      " stage2_unit1_relu1 (Activation  (None, 120, 120, 64  0          ['stage2_unit1_bn1[0][0]']       \n",
      " )                              )                                                                 \n",
      "                                                                                                  \n",
      " zero_padding2d_8 (ZeroPadding2  (None, 122, 122, 64  0          ['stage2_unit1_relu1[0][0]']     \n",
      " D)                             )                                                                 \n",
      "                                                                                                  \n",
      " stage2_unit1_conv1 (Conv2D)    (None, 60, 60, 128)  73728       ['zero_padding2d_8[0][0]']       \n",
      "                                                                                                  \n",
      " stage2_unit1_bn2 (BatchNormali  (None, 60, 60, 128)  512        ['stage2_unit1_conv1[0][0]']     \n",
      " zation)                                                                                          \n",
      "                                                                                                  \n",
      " stage2_unit1_relu2 (Activation  (None, 60, 60, 128)  0          ['stage2_unit1_bn2[0][0]']       \n",
      " )                                                                                                \n",
      "                                                                                                  \n",
      " zero_padding2d_9 (ZeroPadding2  (None, 62, 62, 128)  0          ['stage2_unit1_relu2[0][0]']     \n",
      " D)                                                                                               \n",
      "                                                                                                  \n",
      " stage2_unit1_conv2 (Conv2D)    (None, 60, 60, 128)  147456      ['zero_padding2d_9[0][0]']       \n",
      "                                                                                                  \n",
      " stage2_unit1_sc (Conv2D)       (None, 60, 60, 128)  8192        ['stage2_unit1_relu1[0][0]']     \n",
      "                                                                                                  \n",
      " add_3 (Add)                    (None, 60, 60, 128)  0           ['stage2_unit1_conv2[0][0]',     \n",
      "                                                                  'stage2_unit1_sc[0][0]']        \n",
      "                                                                                                  \n",
      " stage2_unit2_bn1 (BatchNormali  (None, 60, 60, 128)  512        ['add_3[0][0]']                  \n",
      " zation)                                                                                          \n",
      "                                                                                                  \n",
      " stage2_unit2_relu1 (Activation  (None, 60, 60, 128)  0          ['stage2_unit2_bn1[0][0]']       \n",
      " )                                                                                                \n",
      "                                                                                                  \n",
      " zero_padding2d_10 (ZeroPadding  (None, 62, 62, 128)  0          ['stage2_unit2_relu1[0][0]']     \n",
      " 2D)                                                                                              \n",
      "                                                                                                  \n",
      " stage2_unit2_conv1 (Conv2D)    (None, 60, 60, 128)  147456      ['zero_padding2d_10[0][0]']      \n",
      "                                                                                                  \n",
      " stage2_unit2_bn2 (BatchNormali  (None, 60, 60, 128)  512        ['stage2_unit2_conv1[0][0]']     \n",
      " zation)                                                                                          \n",
      "                                                                                                  \n",
      " stage2_unit2_relu2 (Activation  (None, 60, 60, 128)  0          ['stage2_unit2_bn2[0][0]']       \n",
      " )                                                                                                \n",
      "                                                                                                  \n",
      " zero_padding2d_11 (ZeroPadding  (None, 62, 62, 128)  0          ['stage2_unit2_relu2[0][0]']     \n",
      " 2D)                                                                                              \n",
      "                                                                                                  \n",
      " stage2_unit2_conv2 (Conv2D)    (None, 60, 60, 128)  147456      ['zero_padding2d_11[0][0]']      \n",
      "                                                                                                  \n",
      " add_4 (Add)                    (None, 60, 60, 128)  0           ['stage2_unit2_conv2[0][0]',     \n",
      "                                                                  'add_3[0][0]']                  \n",
      "                                                                                                  \n",
      " stage2_unit3_bn1 (BatchNormali  (None, 60, 60, 128)  512        ['add_4[0][0]']                  \n",
      " zation)                                                                                          \n",
      "                                                                                                  \n",
      " stage2_unit3_relu1 (Activation  (None, 60, 60, 128)  0          ['stage2_unit3_bn1[0][0]']       \n",
      " )                                                                                                \n",
      "                                                                                                  \n",
      " zero_padding2d_12 (ZeroPadding  (None, 62, 62, 128)  0          ['stage2_unit3_relu1[0][0]']     \n",
      " 2D)                                                                                              \n",
      "                                                                                                  \n",
      " stage2_unit3_conv1 (Conv2D)    (None, 60, 60, 128)  147456      ['zero_padding2d_12[0][0]']      \n",
      "                                                                                                  \n",
      " stage2_unit3_bn2 (BatchNormali  (None, 60, 60, 128)  512        ['stage2_unit3_conv1[0][0]']     \n",
      " zation)                                                                                          \n",
      "                                                                                                  \n",
      " stage2_unit3_relu2 (Activation  (None, 60, 60, 128)  0          ['stage2_unit3_bn2[0][0]']       \n",
      " )                                                                                                \n",
      "                                                                                                  \n",
      " zero_padding2d_13 (ZeroPadding  (None, 62, 62, 128)  0          ['stage2_unit3_relu2[0][0]']     \n",
      " 2D)                                                                                              \n",
      "                                                                                                  \n",
      " stage2_unit3_conv2 (Conv2D)    (None, 60, 60, 128)  147456      ['zero_padding2d_13[0][0]']      \n",
      "                                                                                                  \n",
      " add_5 (Add)                    (None, 60, 60, 128)  0           ['stage2_unit3_conv2[0][0]',     \n",
      "                                                                  'add_4[0][0]']                  \n",
      "                                                                                                  \n",
      " stage2_unit4_bn1 (BatchNormali  (None, 60, 60, 128)  512        ['add_5[0][0]']                  \n",
      " zation)                                                                                          \n",
      "                                                                                                  \n",
      " stage2_unit4_relu1 (Activation  (None, 60, 60, 128)  0          ['stage2_unit4_bn1[0][0]']       \n",
      " )                                                                                                \n",
      "                                                                                                  \n",
      " zero_padding2d_14 (ZeroPadding  (None, 62, 62, 128)  0          ['stage2_unit4_relu1[0][0]']     \n",
      " 2D)                                                                                              \n",
      "                                                                                                  \n",
      " stage2_unit4_conv1 (Conv2D)    (None, 60, 60, 128)  147456      ['zero_padding2d_14[0][0]']      \n",
      "                                                                                                  \n",
      " stage2_unit4_bn2 (BatchNormali  (None, 60, 60, 128)  512        ['stage2_unit4_conv1[0][0]']     \n",
      " zation)                                                                                          \n",
      "                                                                                                  \n",
      " stage2_unit4_relu2 (Activation  (None, 60, 60, 128)  0          ['stage2_unit4_bn2[0][0]']       \n",
      " )                                                                                                \n",
      "                                                                                                  \n",
      " zero_padding2d_15 (ZeroPadding  (None, 62, 62, 128)  0          ['stage2_unit4_relu2[0][0]']     \n",
      " 2D)                                                                                              \n",
      "                                                                                                  \n",
      " stage2_unit4_conv2 (Conv2D)    (None, 60, 60, 128)  147456      ['zero_padding2d_15[0][0]']      \n",
      "                                                                                                  \n",
      " add_6 (Add)                    (None, 60, 60, 128)  0           ['stage2_unit4_conv2[0][0]',     \n",
      "                                                                  'add_5[0][0]']                  \n",
      "                                                                                                  \n",
      " stage3_unit1_bn1 (BatchNormali  (None, 60, 60, 128)  512        ['add_6[0][0]']                  \n",
      " zation)                                                                                          \n",
      "                                                                                                  \n",
      " stage3_unit1_relu1 (Activation  (None, 60, 60, 128)  0          ['stage3_unit1_bn1[0][0]']       \n",
      " )                                                                                                \n",
      "                                                                                                  \n",
      " zero_padding2d_16 (ZeroPadding  (None, 62, 62, 128)  0          ['stage3_unit1_relu1[0][0]']     \n",
      " 2D)                                                                                              \n",
      "                                                                                                  \n",
      " stage3_unit1_conv1 (Conv2D)    (None, 30, 30, 256)  294912      ['zero_padding2d_16[0][0]']      \n",
      "                                                                                                  \n",
      " stage3_unit1_bn2 (BatchNormali  (None, 30, 30, 256)  1024       ['stage3_unit1_conv1[0][0]']     \n",
      " zation)                                                                                          \n",
      "                                                                                                  \n",
      " stage3_unit1_relu2 (Activation  (None, 30, 30, 256)  0          ['stage3_unit1_bn2[0][0]']       \n",
      " )                                                                                                \n",
      "                                                                                                  \n",
      " zero_padding2d_17 (ZeroPadding  (None, 32, 32, 256)  0          ['stage3_unit1_relu2[0][0]']     \n",
      " 2D)                                                                                              \n",
      "                                                                                                  \n",
      " stage3_unit1_conv2 (Conv2D)    (None, 30, 30, 256)  589824      ['zero_padding2d_17[0][0]']      \n",
      "                                                                                                  \n",
      " stage3_unit1_sc (Conv2D)       (None, 30, 30, 256)  32768       ['stage3_unit1_relu1[0][0]']     \n",
      "                                                                                                  \n",
      " add_7 (Add)                    (None, 30, 30, 256)  0           ['stage3_unit1_conv2[0][0]',     \n",
      "                                                                  'stage3_unit1_sc[0][0]']        \n",
      "                                                                                                  \n",
      " stage3_unit2_bn1 (BatchNormali  (None, 30, 30, 256)  1024       ['add_7[0][0]']                  \n",
      " zation)                                                                                          \n",
      "                                                                                                  \n",
      " stage3_unit2_relu1 (Activation  (None, 30, 30, 256)  0          ['stage3_unit2_bn1[0][0]']       \n",
      " )                                                                                                \n",
      "                                                                                                  \n",
      " zero_padding2d_18 (ZeroPadding  (None, 32, 32, 256)  0          ['stage3_unit2_relu1[0][0]']     \n",
      " 2D)                                                                                              \n",
      "                                                                                                  \n",
      " stage3_unit2_conv1 (Conv2D)    (None, 30, 30, 256)  589824      ['zero_padding2d_18[0][0]']      \n",
      "                                                                                                  \n",
      " stage3_unit2_bn2 (BatchNormali  (None, 30, 30, 256)  1024       ['stage3_unit2_conv1[0][0]']     \n",
      " zation)                                                                                          \n",
      "                                                                                                  \n",
      " stage3_unit2_relu2 (Activation  (None, 30, 30, 256)  0          ['stage3_unit2_bn2[0][0]']       \n",
      " )                                                                                                \n",
      "                                                                                                  \n",
      " zero_padding2d_19 (ZeroPadding  (None, 32, 32, 256)  0          ['stage3_unit2_relu2[0][0]']     \n",
      " 2D)                                                                                              \n",
      "                                                                                                  \n",
      " stage3_unit2_conv2 (Conv2D)    (None, 30, 30, 256)  589824      ['zero_padding2d_19[0][0]']      \n",
      "                                                                                                  \n",
      " add_8 (Add)                    (None, 30, 30, 256)  0           ['stage3_unit2_conv2[0][0]',     \n",
      "                                                                  'add_7[0][0]']                  \n",
      "                                                                                                  \n",
      " stage3_unit3_bn1 (BatchNormali  (None, 30, 30, 256)  1024       ['add_8[0][0]']                  \n",
      " zation)                                                                                          \n",
      "                                                                                                  \n",
      " stage3_unit3_relu1 (Activation  (None, 30, 30, 256)  0          ['stage3_unit3_bn1[0][0]']       \n",
      " )                                                                                                \n",
      "                                                                                                  \n",
      " zero_padding2d_20 (ZeroPadding  (None, 32, 32, 256)  0          ['stage3_unit3_relu1[0][0]']     \n",
      " 2D)                                                                                              \n",
      "                                                                                                  \n",
      " stage3_unit3_conv1 (Conv2D)    (None, 30, 30, 256)  589824      ['zero_padding2d_20[0][0]']      \n",
      "                                                                                                  \n",
      " stage3_unit3_bn2 (BatchNormali  (None, 30, 30, 256)  1024       ['stage3_unit3_conv1[0][0]']     \n",
      " zation)                                                                                          \n",
      "                                                                                                  \n",
      " stage3_unit3_relu2 (Activation  (None, 30, 30, 256)  0          ['stage3_unit3_bn2[0][0]']       \n",
      " )                                                                                                \n",
      "                                                                                                  \n",
      " zero_padding2d_21 (ZeroPadding  (None, 32, 32, 256)  0          ['stage3_unit3_relu2[0][0]']     \n",
      " 2D)                                                                                              \n",
      "                                                                                                  \n",
      " stage3_unit3_conv2 (Conv2D)    (None, 30, 30, 256)  589824      ['zero_padding2d_21[0][0]']      \n",
      "                                                                                                  \n",
      " add_9 (Add)                    (None, 30, 30, 256)  0           ['stage3_unit3_conv2[0][0]',     \n",
      "                                                                  'add_8[0][0]']                  \n",
      "                                                                                                  \n",
      " stage3_unit4_bn1 (BatchNormali  (None, 30, 30, 256)  1024       ['add_9[0][0]']                  \n",
      " zation)                                                                                          \n",
      "                                                                                                  \n",
      " stage3_unit4_relu1 (Activation  (None, 30, 30, 256)  0          ['stage3_unit4_bn1[0][0]']       \n",
      " )                                                                                                \n",
      "                                                                                                  \n",
      " zero_padding2d_22 (ZeroPadding  (None, 32, 32, 256)  0          ['stage3_unit4_relu1[0][0]']     \n",
      " 2D)                                                                                              \n",
      "                                                                                                  \n",
      " stage3_unit4_conv1 (Conv2D)    (None, 30, 30, 256)  589824      ['zero_padding2d_22[0][0]']      \n",
      "                                                                                                  \n",
      " stage3_unit4_bn2 (BatchNormali  (None, 30, 30, 256)  1024       ['stage3_unit4_conv1[0][0]']     \n",
      " zation)                                                                                          \n",
      "                                                                                                  \n",
      " stage3_unit4_relu2 (Activation  (None, 30, 30, 256)  0          ['stage3_unit4_bn2[0][0]']       \n",
      " )                                                                                                \n",
      "                                                                                                  \n",
      " zero_padding2d_23 (ZeroPadding  (None, 32, 32, 256)  0          ['stage3_unit4_relu2[0][0]']     \n",
      " 2D)                                                                                              \n",
      "                                                                                                  \n",
      " stage3_unit4_conv2 (Conv2D)    (None, 30, 30, 256)  589824      ['zero_padding2d_23[0][0]']      \n",
      "                                                                                                  \n",
      " add_10 (Add)                   (None, 30, 30, 256)  0           ['stage3_unit4_conv2[0][0]',     \n",
      "                                                                  'add_9[0][0]']                  \n",
      "                                                                                                  \n",
      " stage3_unit5_bn1 (BatchNormali  (None, 30, 30, 256)  1024       ['add_10[0][0]']                 \n",
      " zation)                                                                                          \n",
      "                                                                                                  \n",
      " stage3_unit5_relu1 (Activation  (None, 30, 30, 256)  0          ['stage3_unit5_bn1[0][0]']       \n",
      " )                                                                                                \n",
      "                                                                                                  \n",
      " zero_padding2d_24 (ZeroPadding  (None, 32, 32, 256)  0          ['stage3_unit5_relu1[0][0]']     \n",
      " 2D)                                                                                              \n",
      "                                                                                                  \n",
      " stage3_unit5_conv1 (Conv2D)    (None, 30, 30, 256)  589824      ['zero_padding2d_24[0][0]']      \n",
      "                                                                                                  \n",
      " stage3_unit5_bn2 (BatchNormali  (None, 30, 30, 256)  1024       ['stage3_unit5_conv1[0][0]']     \n",
      " zation)                                                                                          \n",
      "                                                                                                  \n",
      " stage3_unit5_relu2 (Activation  (None, 30, 30, 256)  0          ['stage3_unit5_bn2[0][0]']       \n",
      " )                                                                                                \n",
      "                                                                                                  \n",
      " zero_padding2d_25 (ZeroPadding  (None, 32, 32, 256)  0          ['stage3_unit5_relu2[0][0]']     \n",
      " 2D)                                                                                              \n",
      "                                                                                                  \n",
      " stage3_unit5_conv2 (Conv2D)    (None, 30, 30, 256)  589824      ['zero_padding2d_25[0][0]']      \n",
      "                                                                                                  \n",
      " add_11 (Add)                   (None, 30, 30, 256)  0           ['stage3_unit5_conv2[0][0]',     \n",
      "                                                                  'add_10[0][0]']                 \n",
      "                                                                                                  \n",
      " stage3_unit6_bn1 (BatchNormali  (None, 30, 30, 256)  1024       ['add_11[0][0]']                 \n",
      " zation)                                                                                          \n",
      "                                                                                                  \n",
      " stage3_unit6_relu1 (Activation  (None, 30, 30, 256)  0          ['stage3_unit6_bn1[0][0]']       \n",
      " )                                                                                                \n",
      "                                                                                                  \n",
      " zero_padding2d_26 (ZeroPadding  (None, 32, 32, 256)  0          ['stage3_unit6_relu1[0][0]']     \n",
      " 2D)                                                                                              \n",
      "                                                                                                  \n",
      " stage3_unit6_conv1 (Conv2D)    (None, 30, 30, 256)  589824      ['zero_padding2d_26[0][0]']      \n",
      "                                                                                                  \n",
      " stage3_unit6_bn2 (BatchNormali  (None, 30, 30, 256)  1024       ['stage3_unit6_conv1[0][0]']     \n",
      " zation)                                                                                          \n",
      "                                                                                                  \n",
      " stage3_unit6_relu2 (Activation  (None, 30, 30, 256)  0          ['stage3_unit6_bn2[0][0]']       \n",
      " )                                                                                                \n",
      "                                                                                                  \n",
      " zero_padding2d_27 (ZeroPadding  (None, 32, 32, 256)  0          ['stage3_unit6_relu2[0][0]']     \n",
      " 2D)                                                                                              \n",
      "                                                                                                  \n",
      " stage3_unit6_conv2 (Conv2D)    (None, 30, 30, 256)  589824      ['zero_padding2d_27[0][0]']      \n",
      "                                                                                                  \n",
      " add_12 (Add)                   (None, 30, 30, 256)  0           ['stage3_unit6_conv2[0][0]',     \n",
      "                                                                  'add_11[0][0]']                 \n",
      "                                                                                                  \n",
      " stage4_unit1_bn1 (BatchNormali  (None, 30, 30, 256)  1024       ['add_12[0][0]']                 \n",
      " zation)                                                                                          \n",
      "                                                                                                  \n",
      " stage4_unit1_relu1 (Activation  (None, 30, 30, 256)  0          ['stage4_unit1_bn1[0][0]']       \n",
      " )                                                                                                \n",
      "                                                                                                  \n",
      " zero_padding2d_28 (ZeroPadding  (None, 32, 32, 256)  0          ['stage4_unit1_relu1[0][0]']     \n",
      " 2D)                                                                                              \n",
      "                                                                                                  \n",
      " stage4_unit1_conv1 (Conv2D)    (None, 15, 15, 512)  1179648     ['zero_padding2d_28[0][0]']      \n",
      "                                                                                                  \n",
      " stage4_unit1_bn2 (BatchNormali  (None, 15, 15, 512)  2048       ['stage4_unit1_conv1[0][0]']     \n",
      " zation)                                                                                          \n",
      "                                                                                                  \n",
      " stage4_unit1_relu2 (Activation  (None, 15, 15, 512)  0          ['stage4_unit1_bn2[0][0]']       \n",
      " )                                                                                                \n",
      "                                                                                                  \n",
      " zero_padding2d_29 (ZeroPadding  (None, 17, 17, 512)  0          ['stage4_unit1_relu2[0][0]']     \n",
      " 2D)                                                                                              \n",
      "                                                                                                  \n",
      " stage4_unit1_conv2 (Conv2D)    (None, 15, 15, 512)  2359296     ['zero_padding2d_29[0][0]']      \n",
      "                                                                                                  \n",
      " stage4_unit1_sc (Conv2D)       (None, 15, 15, 512)  131072      ['stage4_unit1_relu1[0][0]']     \n",
      "                                                                                                  \n",
      " add_13 (Add)                   (None, 15, 15, 512)  0           ['stage4_unit1_conv2[0][0]',     \n",
      "                                                                  'stage4_unit1_sc[0][0]']        \n",
      "                                                                                                  \n",
      " stage4_unit2_bn1 (BatchNormali  (None, 15, 15, 512)  2048       ['add_13[0][0]']                 \n",
      " zation)                                                                                          \n",
      "                                                                                                  \n",
      " stage4_unit2_relu1 (Activation  (None, 15, 15, 512)  0          ['stage4_unit2_bn1[0][0]']       \n",
      " )                                                                                                \n",
      "                                                                                                  \n",
      " zero_padding2d_30 (ZeroPadding  (None, 17, 17, 512)  0          ['stage4_unit2_relu1[0][0]']     \n",
      " 2D)                                                                                              \n",
      "                                                                                                  \n",
      " stage4_unit2_conv1 (Conv2D)    (None, 15, 15, 512)  2359296     ['zero_padding2d_30[0][0]']      \n",
      "                                                                                                  \n",
      " stage4_unit2_bn2 (BatchNormali  (None, 15, 15, 512)  2048       ['stage4_unit2_conv1[0][0]']     \n",
      " zation)                                                                                          \n",
      "                                                                                                  \n",
      " stage4_unit2_relu2 (Activation  (None, 15, 15, 512)  0          ['stage4_unit2_bn2[0][0]']       \n",
      " )                                                                                                \n",
      "                                                                                                  \n",
      " zero_padding2d_31 (ZeroPadding  (None, 17, 17, 512)  0          ['stage4_unit2_relu2[0][0]']     \n",
      " 2D)                                                                                              \n",
      "                                                                                                  \n",
      " stage4_unit2_conv2 (Conv2D)    (None, 15, 15, 512)  2359296     ['zero_padding2d_31[0][0]']      \n",
      "                                                                                                  \n",
      " add_14 (Add)                   (None, 15, 15, 512)  0           ['stage4_unit2_conv2[0][0]',     \n",
      "                                                                  'add_13[0][0]']                 \n",
      "                                                                                                  \n",
      " stage4_unit3_bn1 (BatchNormali  (None, 15, 15, 512)  2048       ['add_14[0][0]']                 \n",
      " zation)                                                                                          \n",
      "                                                                                                  \n",
      " stage4_unit3_relu1 (Activation  (None, 15, 15, 512)  0          ['stage4_unit3_bn1[0][0]']       \n",
      " )                                                                                                \n",
      "                                                                                                  \n",
      " zero_padding2d_32 (ZeroPadding  (None, 17, 17, 512)  0          ['stage4_unit3_relu1[0][0]']     \n",
      " 2D)                                                                                              \n",
      "                                                                                                  \n",
      " stage4_unit3_conv1 (Conv2D)    (None, 15, 15, 512)  2359296     ['zero_padding2d_32[0][0]']      \n",
      "                                                                                                  \n",
      " stage4_unit3_bn2 (BatchNormali  (None, 15, 15, 512)  2048       ['stage4_unit3_conv1[0][0]']     \n",
      " zation)                                                                                          \n",
      "                                                                                                  \n",
      " stage4_unit3_relu2 (Activation  (None, 15, 15, 512)  0          ['stage4_unit3_bn2[0][0]']       \n",
      " )                                                                                                \n",
      "                                                                                                  \n",
      " zero_padding2d_33 (ZeroPadding  (None, 17, 17, 512)  0          ['stage4_unit3_relu2[0][0]']     \n",
      " 2D)                                                                                              \n",
      "                                                                                                  \n",
      " stage4_unit3_conv2 (Conv2D)    (None, 15, 15, 512)  2359296     ['zero_padding2d_33[0][0]']      \n",
      "                                                                                                  \n",
      " add_15 (Add)                   (None, 15, 15, 512)  0           ['stage4_unit3_conv2[0][0]',     \n",
      "                                                                  'add_14[0][0]']                 \n",
      "                                                                                                  \n",
      " bn1 (BatchNormalization)       (None, 15, 15, 512)  2048        ['add_15[0][0]']                 \n",
      "                                                                                                  \n",
      " relu1 (Activation)             (None, 15, 15, 512)  0           ['bn1[0][0]']                    \n",
      "                                                                                                  \n",
      " decoder_stage0_upsampling (UpS  (None, 30, 30, 512)  0          ['relu1[0][0]']                  \n",
      " ampling2D)                                                                                       \n",
      "                                                                                                  \n",
      " dropout (Dropout)              (None, 30, 30, 512)  0           ['decoder_stage0_upsampling[0][0]\n",
      "                                                                 ']                               \n",
      "                                                                                                  \n",
      " decoder_stage0_concat (Concate  (None, 30, 30, 768)  0          ['dropout[0][0]',                \n",
      " nate)                                                            'stage4_unit1_relu1[0][0]']     \n",
      "                                                                                                  \n",
      " decoder_stage0a_conv (Conv2D)  (None, 30, 30, 256)  1769472     ['decoder_stage0_concat[0][0]']  \n",
      "                                                                                                  \n",
      " decoder_stage0a_bn (BatchNorma  (None, 30, 30, 256)  1024       ['decoder_stage0a_conv[0][0]']   \n",
      " lization)                                                                                        \n",
      "                                                                                                  \n",
      " decoder_stage0a_relu (Activati  (None, 30, 30, 256)  0          ['decoder_stage0a_bn[0][0]']     \n",
      " on)                                                                                              \n",
      "                                                                                                  \n",
      " decoder_stage0b_conv (Conv2D)  (None, 30, 30, 256)  589824      ['decoder_stage0a_relu[0][0]']   \n",
      "                                                                                                  \n",
      " decoder_stage0b_bn (BatchNorma  (None, 30, 30, 256)  1024       ['decoder_stage0b_conv[0][0]']   \n",
      " lization)                                                                                        \n",
      "                                                                                                  \n",
      " decoder_stage0b_relu (Activati  (None, 30, 30, 256)  0          ['decoder_stage0b_bn[0][0]']     \n",
      " on)                                                                                              \n",
      "                                                                                                  \n",
      " decoder_stage1_upsampling (UpS  (None, 60, 60, 256)  0          ['decoder_stage0b_relu[0][0]']   \n",
      " ampling2D)                                                                                       \n",
      "                                                                                                  \n",
      " dropout_1 (Dropout)            (None, 60, 60, 256)  0           ['decoder_stage1_upsampling[0][0]\n",
      "                                                                 ']                               \n",
      "                                                                                                  \n",
      " decoder_stage1_concat (Concate  (None, 60, 60, 384)  0          ['dropout_1[0][0]',              \n",
      " nate)                                                            'stage3_unit1_relu1[0][0]']     \n",
      "                                                                                                  \n",
      " decoder_stage1a_conv (Conv2D)  (None, 60, 60, 128)  442368      ['decoder_stage1_concat[0][0]']  \n",
      "                                                                                                  \n",
      " decoder_stage1a_bn (BatchNorma  (None, 60, 60, 128)  512        ['decoder_stage1a_conv[0][0]']   \n",
      " lization)                                                                                        \n",
      "                                                                                                  \n",
      " decoder_stage1a_relu (Activati  (None, 60, 60, 128)  0          ['decoder_stage1a_bn[0][0]']     \n",
      " on)                                                                                              \n",
      "                                                                                                  \n",
      " decoder_stage1b_conv (Conv2D)  (None, 60, 60, 128)  147456      ['decoder_stage1a_relu[0][0]']   \n",
      "                                                                                                  \n",
      " decoder_stage1b_bn (BatchNorma  (None, 60, 60, 128)  512        ['decoder_stage1b_conv[0][0]']   \n",
      " lization)                                                                                        \n",
      "                                                                                                  \n",
      " decoder_stage1b_relu (Activati  (None, 60, 60, 128)  0          ['decoder_stage1b_bn[0][0]']     \n",
      " on)                                                                                              \n",
      "                                                                                                  \n",
      " decoder_stage2_upsampling (UpS  (None, 120, 120, 12  0          ['decoder_stage1b_relu[0][0]']   \n",
      " ampling2D)                     8)                                                                \n",
      "                                                                                                  \n",
      " dropout_2 (Dropout)            (None, 120, 120, 12  0           ['decoder_stage2_upsampling[0][0]\n",
      "                                8)                               ']                               \n",
      "                                                                                                  \n",
      " decoder_stage2_concat (Concate  (None, 120, 120, 19  0          ['dropout_2[0][0]',              \n",
      " nate)                          2)                                'stage2_unit1_relu1[0][0]']     \n",
      "                                                                                                  \n",
      " decoder_stage2a_conv (Conv2D)  (None, 120, 120, 64  110592      ['decoder_stage2_concat[0][0]']  \n",
      "                                )                                                                 \n",
      "                                                                                                  \n",
      " decoder_stage2a_bn (BatchNorma  (None, 120, 120, 64  256        ['decoder_stage2a_conv[0][0]']   \n",
      " lization)                      )                                                                 \n",
      "                                                                                                  \n",
      " decoder_stage2a_relu (Activati  (None, 120, 120, 64  0          ['decoder_stage2a_bn[0][0]']     \n",
      " on)                            )                                                                 \n",
      "                                                                                                  \n",
      " decoder_stage2b_conv (Conv2D)  (None, 120, 120, 64  36864       ['decoder_stage2a_relu[0][0]']   \n",
      "                                )                                                                 \n",
      "                                                                                                  \n",
      " decoder_stage2b_bn (BatchNorma  (None, 120, 120, 64  256        ['decoder_stage2b_conv[0][0]']   \n",
      " lization)                      )                                                                 \n",
      "                                                                                                  \n",
      " decoder_stage2b_relu (Activati  (None, 120, 120, 64  0          ['decoder_stage2b_bn[0][0]']     \n",
      " on)                            )                                                                 \n",
      "                                                                                                  \n",
      " decoder_stage3_upsampling (UpS  (None, 240, 240, 64  0          ['decoder_stage2b_relu[0][0]']   \n",
      " ampling2D)                     )                                                                 \n",
      "                                                                                                  \n",
      " dropout_3 (Dropout)            (None, 240, 240, 64  0           ['decoder_stage3_upsampling[0][0]\n",
      "                                )                                ']                               \n",
      "                                                                                                  \n",
      " decoder_stage3_concat (Concate  (None, 240, 240, 12  0          ['dropout_3[0][0]',              \n",
      " nate)                          8)                                'relu0[0][0]']                  \n",
      "                                                                                                  \n",
      " decoder_stage3a_conv (Conv2D)  (None, 240, 240, 32  36864       ['decoder_stage3_concat[0][0]']  \n",
      "                                )                                                                 \n",
      "                                                                                                  \n",
      " decoder_stage3a_bn (BatchNorma  (None, 240, 240, 32  128        ['decoder_stage3a_conv[0][0]']   \n",
      " lization)                      )                                                                 \n",
      "                                                                                                  \n",
      " decoder_stage3a_relu (Activati  (None, 240, 240, 32  0          ['decoder_stage3a_bn[0][0]']     \n",
      " on)                            )                                                                 \n",
      "                                                                                                  \n",
      " decoder_stage3b_conv (Conv2D)  (None, 240, 240, 32  9216        ['decoder_stage3a_relu[0][0]']   \n",
      "                                )                                                                 \n",
      "                                                                                                  \n",
      " decoder_stage3b_bn (BatchNorma  (None, 240, 240, 32  128        ['decoder_stage3b_conv[0][0]']   \n",
      " lization)                      )                                                                 \n",
      "                                                                                                  \n",
      " decoder_stage3b_relu (Activati  (None, 240, 240, 32  0          ['decoder_stage3b_bn[0][0]']     \n",
      " on)                            )                                                                 \n",
      "                                                                                                  \n",
      " decoder_stage4_upsampling (UpS  (None, 480, 480, 32  0          ['decoder_stage3b_relu[0][0]']   \n",
      " ampling2D)                     )                                                                 \n",
      "                                                                                                  \n",
      " dropout_4 (Dropout)            (None, 480, 480, 32  0           ['decoder_stage4_upsampling[0][0]\n",
      "                                )                                ']                               \n",
      "                                                                                                  \n",
      " decoder_stage4a_conv (Conv2D)  (None, 480, 480, 16  4608        ['dropout_4[0][0]']              \n",
      "                                )                                                                 \n",
      "                                                                                                  \n",
      " decoder_stage4a_bn (BatchNorma  (None, 480, 480, 16  64         ['decoder_stage4a_conv[0][0]']   \n",
      " lization)                      )                                                                 \n",
      "                                                                                                  \n",
      " decoder_stage4a_relu (Activati  (None, 480, 480, 16  0          ['decoder_stage4a_bn[0][0]']     \n",
      " on)                            )                                                                 \n",
      "                                                                                                  \n",
      " decoder_stage4b_conv (Conv2D)  (None, 480, 480, 16  2304        ['decoder_stage4a_relu[0][0]']   \n",
      "                                )                                                                 \n",
      "                                                                                                  \n",
      " decoder_stage4b_bn (BatchNorma  (None, 480, 480, 16  64         ['decoder_stage4b_conv[0][0]']   \n",
      " lization)                      )                                                                 \n",
      "                                                                                                  \n",
      " decoder_stage4b_relu (Activati  (None, 480, 480, 16  0          ['decoder_stage4b_bn[0][0]']     \n",
      " on)                            )                                                                 \n",
      "                                                                                                  \n",
      " final_conv (Conv2D)            (None, 480, 480, 3)  435         ['decoder_stage4b_relu[0][0]']   \n",
      "                                                                                                  \n",
      " softmax (Activation)           (None, 480, 480, 3)  0           ['final_conv[0][0]']             \n",
      "                                                                                                  \n",
      "==================================================================================================\n",
      "Total params: 24,456,444\n",
      "Trainable params: 24,439,094\n",
      "Non-trainable params: 17,350\n",
      "__________________________________________________________________________________________________\n",
      "None\n",
      "Class weights are...: [2.77762708 0.48924105 1.67785724]\n",
      "Train size after patch extraction... (6, 480, 480)\n",
      "Test size after patch extraction... (2, 480, 480)\n",
      "Train size imgs ... (6, 480, 480)\n",
      "Train size masks ... (6, 480, 480)\n",
      "Test size imgs ... (2, 480, 480)\n",
      "Test size masks ... (2, 480, 480)\n"
     ]
    },
    {
     "data": {
      "text/html": [
       "wandb version 0.15.4 is available!  To upgrade, please run:\n",
       " $ pip install wandb --upgrade"
      ],
      "text/plain": [
       "<IPython.core.display.HTML object>"
      ]
     },
     "metadata": {},
     "output_type": "display_data"
    },
    {
     "data": {
      "text/html": [
       "Tracking run with wandb version 0.15.3"
      ],
      "text/plain": [
       "<IPython.core.display.HTML object>"
      ]
     },
     "metadata": {},
     "output_type": "display_data"
    },
    {
     "data": {
      "text/html": [
       "Run data is saved locally in <code>e:\\polar\\code\\ponds\\ponds\\wandb\\run-20230705_084009-44kcmm3g</code>"
      ],
      "text/plain": [
       "<IPython.core.display.HTML object>"
      ]
     },
     "metadata": {},
     "output_type": "display_data"
    },
    {
     "data": {
      "text/html": [
       "Syncing run <strong><a href='https://wandb.ai/sea-ice/pond/runs/44kcmm3g' target=\"_blank\">foldn_1</a></strong> to <a href='https://wandb.ai/sea-ice/pond' target=\"_blank\">Weights & Biases</a> (<a href='https://wandb.me/run' target=\"_blank\">docs</a>)<br/>"
      ],
      "text/plain": [
       "<IPython.core.display.HTML object>"
      ]
     },
     "metadata": {},
     "output_type": "display_data"
    },
    {
     "data": {
      "text/html": [
       " View project at <a href='https://wandb.ai/sea-ice/pond' target=\"_blank\">https://wandb.ai/sea-ice/pond</a>"
      ],
      "text/plain": [
       "<IPython.core.display.HTML object>"
      ]
     },
     "metadata": {},
     "output_type": "display_data"
    },
    {
     "data": {
      "text/html": [
       " View run at <a href='https://wandb.ai/sea-ice/pond/runs/44kcmm3g' target=\"_blank\">https://wandb.ai/sea-ice/pond/runs/44kcmm3g</a>"
      ],
      "text/plain": [
       "<IPython.core.display.HTML object>"
      ]
     },
     "metadata": {},
     "output_type": "display_data"
    },
    {
     "name": "stdout",
     "output_type": "stream",
     "text": [
      "Test set size... (2, 480, 480)\n",
      "(480, 480, 3)\n",
      "[0. 1.]\n",
      "Image shape before normalization... (480, 480, 3)\n",
      "Image shape after normalization... (480, 480, 3)\n",
      "Shape image: (480, 480, 3)\n",
      "Shape mask: (480, 480, 3)\n",
      "(480, 480, 3)\n",
      "[0. 1.]\n",
      "Image shape before normalization... (480, 480, 3)\n",
      "Image shape after normalization... (480, 480, 3)\n",
      "Shape image: (480, 480, 3)\n",
      "Shape mask: (480, 480, 3)\n",
      "(480, 480, 3)\n",
      "[0. 1.]\n",
      "Image shape before normalization... (480, 480, 3)\n",
      "Image shape after normalization... (480, 480, 3)\n",
      "Shape image: (480, 480, 3)\n",
      "Shape mask: (480, 480, 3)\n",
      "(480, 480, 3)\n",
      "[0. 1.]\n",
      "Image shape before normalization... (480, 480, 3)\n",
      "Image shape after normalization... (480, 480, 3)\n",
      "Shape image: (480, 480, 3)\n",
      "Shape mask: (480, 480, 3)\n",
      "Epoch 1/2\n",
      "(480, 480, 3)\n",
      "[0. 1.]\n",
      "Image shape before normalization... (480, 480, 3)\n",
      "Image shape after normalization... (480, 480, 3)\n",
      "Shape image: (480, 480, 3)\n",
      "Shape mask: (480, 480, 3)\n",
      "(480, 480, 3)\n",
      "[0. 1.]\n",
      "Image shape before normalization... (480, 480, 3)\n",
      "Image shape after normalization... (480, 480, 3)\n",
      "Shape image: (480, 480, 3)\n",
      "Shape mask: (480, 480, 3)\n",
      "(480, 480, 3)\n",
      "[0. 1.]\n",
      "Image shape before normalization... (480, 480, 3)\n",
      "Image shape after normalization... (480, 480, 3)\n",
      "Shape image: (480, 480, 3)\n",
      "Shape mask: (480, 480, 3)\n",
      "(480, 480, 3)\n",
      "[0. 1.]\n",
      "Image shape before normalization... (480, 480, 3)\n",
      "Image shape after normalization... (480, 480, 3)\n",
      "Shape image: (480, 480, 3)\n",
      "Shape mask: (480, 480, 3)\n",
      "1/1 [==============================] - ETA: 0s - loss: 0.3623 - mean_iou: 0.1976 - weighted_iou: 0.2040 - f1: 0.3081 - precision: 0.3291 - recall: 0.3270 - melt_pond_iou: 0.0808 - sea_ice_iou: 0.3966 - ocean_iou: 0.1154 - mean_iou_rounded: 0.1535(480, 480, 3)\n",
      "[0. 1.]\n",
      "Image shape before normalization... (480, 480, 3)\n",
      "Image shape after normalization... (480, 480, 3)\n",
      "Shape image: (480, 480, 3)\n",
      "Shape mask: (480, 480, 3)\n",
      "(480, 480, 3)\n",
      "[0. 1.]\n",
      "Image shape before normalization... (480, 480, 3)\n",
      "Image shape after normalization... (480, 480, 3)\n",
      "Shape image: (480, 480, 3)\n",
      "Shape mask: (480, 480, 3)\n",
      "(480, 480, 3)\n",
      "[0. 1.]\n",
      "Image shape before normalization... (480, 480, 3)\n",
      "Image shape after normalization... (480, 480, 3)\n",
      "Shape image: (480, 480, 3)\n",
      "Shape mask: (480, 480, 3)\n",
      "1/1 [==============================] - 36s 36s/step - loss: 0.3623 - mean_iou: 0.1976 - weighted_iou: 0.2040 - f1: 0.3081 - precision: 0.3291 - recall: 0.3270 - melt_pond_iou: 0.0808 - sea_ice_iou: 0.3966 - ocean_iou: 0.1154 - mean_iou_rounded: 0.1535 - val_loss: 0.4704 - val_mean_iou: 0.1410 - val_weighted_iou: 0.1894 - val_f1: 0.2427 - val_precision: 0.3313 - val_recall: 0.3316 - val_melt_pond_iou: 0.0904 - val_sea_ice_iou: 0.2027 - val_ocean_iou: 0.1299 - val_mean_iou_rounded: 0.0303\n",
      "Epoch 2/2\n",
      "(480, 480, 3)\n",
      "[0. 1.]\n",
      "Image shape before normalization... (480, 480, 3)\n",
      "Image shape after normalization... (480, 480, 3)\n",
      "Shape image: (480, 480, 3)\n",
      "Shape mask: (480, 480, 3)\n",
      "(480, 480, 3)\n",
      "[0. 1.]\n",
      "Image shape before normalization... (480, 480, 3)\n",
      "Image shape after normalization... (480, 480, 3)\n",
      "Shape image: (480, 480, 3)\n",
      "Shape mask: (480, 480, 3)\n",
      "(480, 480, 3)\n",
      "[0. 1.]\n",
      "Image shape before normalization... (480, 480, 3)\n",
      "Image shape after normalization... (480, 480, 3)\n",
      "Shape image: (480, 480, 3)\n",
      "Shape mask: (480, 480, 3)\n",
      "(480, 480, 3)\n",
      "[0. 1.]\n",
      "Image shape before normalization... (480, 480, 3)\n",
      "Image shape after normalization... (480, 480, 3)\n",
      "Shape image: (480, 480, 3)\n",
      "Shape mask: (480, 480, 3)\n",
      "1/1 [==============================] - ETA: 0s - loss: 0.3314 - mean_iou: 0.2129 - weighted_iou: 0.2207 - f1: 0.3274 - precision: 0.3429 - recall: 0.3457 - melt_pond_iou: 0.0851 - sea_ice_iou: 0.4231 - ocean_iou: 0.1304 - mean_iou_rounded: 0.1831(480, 480, 3)\n",
      "[0. 1.]\n",
      "Image shape before normalization... (480, 480, 3)\n",
      "Image shape after normalization... (480, 480, 3)\n",
      "Shape image: (480, 480, 3)\n",
      "Shape mask: (480, 480, 3)\n",
      "(480, 480, 3)\n",
      "[0. 1.]\n",
      "Image shape before normalization... (480, 480, 3)\n",
      "Image shape after normalization... (480, 480, 3)\n",
      "Shape image: (480, 480, 3)\n",
      "Shape mask: (480, 480, 3)\n",
      "1/1 [==============================] - 21s 21s/step - loss: 0.3314 - mean_iou: 0.2129 - weighted_iou: 0.2207 - f1: 0.3274 - precision: 0.3429 - recall: 0.3457 - melt_pond_iou: 0.0851 - sea_ice_iou: 0.4231 - ocean_iou: 0.1304 - mean_iou_rounded: 0.1831 - val_loss: 1.6380 - val_mean_iou: 0.0464 - val_weighted_iou: 0.1064 - val_f1: 0.0841 - val_precision: 0.3259 - val_recall: 0.3344 - val_melt_pond_iou: 0.1014 - val_sea_ice_iou: 0.0217 - val_ocean_iou: 0.0162 - val_mean_iou_rounded: 0.0340\n",
      "(480, 480, 3)\n",
      "[0. 1.]\n",
      "Image shape before normalization... (480, 480, 3)\n",
      "Image shape after normalization... (480, 480, 3)\n",
      "Shape image: (480, 480, 3)\n",
      "Shape mask: (480, 480, 3)\n",
      "(480, 480, 3)\n",
      "[0. 1.]\n",
      "Image shape before normalization... (480, 480, 3)\n",
      "Image shape after normalization... (480, 480, 3)\n",
      "Shape image: (480, 480, 3)\n",
      "Shape mask: (480, 480, 3)\n",
      "(480, 480, 3)\n",
      "[0. 1.]\n",
      "Image shape before normalization... (480, 480, 3)\n",
      "Image shape after normalization... (480, 480, 3)\n",
      "Shape image: (480, 480, 3)\n",
      "Shape mask: (480, 480, 3)\n"
     ]
    },
    {
     "data": {
      "text/html": [
       "Waiting for W&B process to finish... <strong style=\"color:green\">(success).</strong>"
      ],
      "text/plain": [
       "<IPython.core.display.HTML object>"
      ]
     },
     "metadata": {},
     "output_type": "display_data"
    },
    {
     "data": {
      "text/html": [
       "<style>\n",
       "    table.wandb td:nth-child(1) { padding: 0 10px; text-align: left ; width: auto;} td:nth-child(2) {text-align: left ; width: 100%}\n",
       "    .wandb-row { display: flex; flex-direction: row; flex-wrap: wrap; justify-content: flex-start; width: 100% }\n",
       "    .wandb-col { display: flex; flex-direction: column; flex-basis: 100%; flex: 1; padding: 10px; }\n",
       "    </style>\n",
       "<div class=\"wandb-row\"><div class=\"wandb-col\"><h3>Run history:</h3><br/><table class=\"wandb\"><tr><td>epoch/epoch</td><td>▁█</td></tr><tr><td>epoch/f1</td><td>▁█</td></tr><tr><td>epoch/learning_rate</td><td>▁▁</td></tr><tr><td>epoch/loss</td><td>█▁</td></tr><tr><td>epoch/mean_iou</td><td>▁█</td></tr><tr><td>epoch/mean_iou_rounded</td><td>▁█</td></tr><tr><td>epoch/melt_pond_iou</td><td>▁█</td></tr><tr><td>epoch/ocean_iou</td><td>▁█</td></tr><tr><td>epoch/precision</td><td>▁█</td></tr><tr><td>epoch/recall</td><td>▁█</td></tr><tr><td>epoch/sea_ice_iou</td><td>▁█</td></tr><tr><td>epoch/val_f1</td><td>█▁</td></tr><tr><td>epoch/val_loss</td><td>▁█</td></tr><tr><td>epoch/val_mean_iou</td><td>█▁</td></tr><tr><td>epoch/val_mean_iou_rounded</td><td>▁█</td></tr><tr><td>epoch/val_melt_pond_iou</td><td>▁█</td></tr><tr><td>epoch/val_ocean_iou</td><td>█▁</td></tr><tr><td>epoch/val_precision</td><td>█▁</td></tr><tr><td>epoch/val_recall</td><td>▁█</td></tr><tr><td>epoch/val_sea_ice_iou</td><td>█▁</td></tr><tr><td>epoch/val_weighted_iou</td><td>█▁</td></tr><tr><td>epoch/weighted_iou</td><td>▁█</td></tr></table><br/></div><div class=\"wandb-col\"><h3>Run summary:</h3><br/><table class=\"wandb\"><tr><td>epoch/epoch</td><td>1</td></tr><tr><td>epoch/f1</td><td>0.32742</td></tr><tr><td>epoch/learning_rate</td><td>0.001</td></tr><tr><td>epoch/loss</td><td>0.33135</td></tr><tr><td>epoch/mean_iou</td><td>0.21289</td></tr><tr><td>epoch/mean_iou_rounded</td><td>0.18315</td></tr><tr><td>epoch/melt_pond_iou</td><td>0.0851</td></tr><tr><td>epoch/ocean_iou</td><td>0.13043</td></tr><tr><td>epoch/precision</td><td>0.34293</td></tr><tr><td>epoch/recall</td><td>0.34569</td></tr><tr><td>epoch/sea_ice_iou</td><td>0.42314</td></tr><tr><td>epoch/val_f1</td><td>0.08409</td></tr><tr><td>epoch/val_loss</td><td>1.63797</td></tr><tr><td>epoch/val_mean_iou</td><td>0.0464</td></tr><tr><td>epoch/val_mean_iou_rounded</td><td>0.03398</td></tr><tr><td>epoch/val_melt_pond_iou</td><td>0.10141</td></tr><tr><td>epoch/val_ocean_iou</td><td>0.01616</td></tr><tr><td>epoch/val_precision</td><td>0.32591</td></tr><tr><td>epoch/val_recall</td><td>0.33438</td></tr><tr><td>epoch/val_sea_ice_iou</td><td>0.02167</td></tr><tr><td>epoch/val_weighted_iou</td><td>0.10643</td></tr><tr><td>epoch/weighted_iou</td><td>0.22074</td></tr></table><br/></div></div>"
      ],
      "text/plain": [
       "<IPython.core.display.HTML object>"
      ]
     },
     "metadata": {},
     "output_type": "display_data"
    },
    {
     "data": {
      "text/html": [
       " View run <strong style=\"color:#cdcd00\">foldn_1</strong> at: <a href='https://wandb.ai/sea-ice/pond/runs/44kcmm3g' target=\"_blank\">https://wandb.ai/sea-ice/pond/runs/44kcmm3g</a><br/>Synced 5 W&B file(s), 0 media file(s), 0 artifact file(s) and 0 other file(s)"
      ],
      "text/plain": [
       "<IPython.core.display.HTML object>"
      ]
     },
     "metadata": {},
     "output_type": "display_data"
    },
    {
     "data": {
      "text/html": [
       "Find logs at: <code>.\\wandb\\run-20230705_084009-44kcmm3g\\logs</code>"
      ],
      "text/plain": [
       "<IPython.core.display.HTML object>"
      ]
     },
     "metadata": {},
     "output_type": "display_data"
    },
    {
     "name": "stdout",
     "output_type": "stream",
     "text": [
      "Class weights are...: [2.69509934 0.49824835 1.60791115]\n",
      "Train size after patch extraction... (6, 480, 480)\n",
      "Test size after patch extraction... (2, 480, 480)\n",
      "Train size imgs ... (6, 480, 480)\n",
      "Train size masks ... (6, 480, 480)\n",
      "Test size imgs ... (2, 480, 480)\n",
      "Test size masks ... (2, 480, 480)\n"
     ]
    },
    {
     "data": {
      "text/html": [
       "wandb version 0.15.4 is available!  To upgrade, please run:\n",
       " $ pip install wandb --upgrade"
      ],
      "text/plain": [
       "<IPython.core.display.HTML object>"
      ]
     },
     "metadata": {},
     "output_type": "display_data"
    },
    {
     "data": {
      "text/html": [
       "Tracking run with wandb version 0.15.3"
      ],
      "text/plain": [
       "<IPython.core.display.HTML object>"
      ]
     },
     "metadata": {},
     "output_type": "display_data"
    },
    {
     "data": {
      "text/html": [
       "Run data is saved locally in <code>e:\\polar\\code\\ponds\\ponds\\wandb\\run-20230705_084117-f9le5jg4</code>"
      ],
      "text/plain": [
       "<IPython.core.display.HTML object>"
      ]
     },
     "metadata": {},
     "output_type": "display_data"
    },
    {
     "data": {
      "text/html": [
       "Syncing run <strong><a href='https://wandb.ai/sea-ice/pond/runs/f9le5jg4' target=\"_blank\">foldn_2</a></strong> to <a href='https://wandb.ai/sea-ice/pond' target=\"_blank\">Weights & Biases</a> (<a href='https://wandb.me/run' target=\"_blank\">docs</a>)<br/>"
      ],
      "text/plain": [
       "<IPython.core.display.HTML object>"
      ]
     },
     "metadata": {},
     "output_type": "display_data"
    },
    {
     "data": {
      "text/html": [
       " View project at <a href='https://wandb.ai/sea-ice/pond' target=\"_blank\">https://wandb.ai/sea-ice/pond</a>"
      ],
      "text/plain": [
       "<IPython.core.display.HTML object>"
      ]
     },
     "metadata": {},
     "output_type": "display_data"
    },
    {
     "data": {
      "text/html": [
       " View run at <a href='https://wandb.ai/sea-ice/pond/runs/f9le5jg4' target=\"_blank\">https://wandb.ai/sea-ice/pond/runs/f9le5jg4</a>"
      ],
      "text/plain": [
       "<IPython.core.display.HTML object>"
      ]
     },
     "metadata": {},
     "output_type": "display_data"
    },
    {
     "name": "stdout",
     "output_type": "stream",
     "text": [
      "Test set size... (2, 480, 480)\n",
      "(480, 480, 3)\n",
      "[0. 1.]\n",
      "Image shape before normalization... (480, 480, 3)\n",
      "Image shape after normalization... (480, 480, 3)\n",
      "Shape image: (480, 480, 3)\n",
      "Shape mask: (480, 480, 3)\n",
      "(480, 480, 3)\n",
      "[0. 1.]\n",
      "Image shape before normalization... (480, 480, 3)\n",
      "Image shape after normalization... (480, 480, 3)\n",
      "Shape image: (480, 480, 3)\n",
      "Shape mask: (480, 480, 3)\n",
      "(480, 480, 3)\n",
      "[0. 1.]\n",
      "Image shape before normalization... (480, 480, 3)\n",
      "Image shape after normalization... (480, 480, 3)\n",
      "Shape image: (480, 480, 3)\n",
      "Shape mask: (480, 480, 3)\n",
      "(480, 480, 3)\n",
      "[0. 1.]\n",
      "Image shape before normalization... (480, 480, 3)\n",
      "Image shape after normalization... (480, 480, 3)\n",
      "Shape image: (480, 480, 3)\n",
      "Shape mask: (480, 480, 3)\n",
      "Epoch 1/2\n",
      "(480, 480, 3)\n",
      "[0. 1.]\n",
      "Image shape before normalization... (480, 480, 3)\n",
      "Image shape after normalization... (480, 480, 3)\n",
      "Shape image: (480, 480, 3)\n",
      "Shape mask: (480, 480, 3)\n",
      "(480, 480, 3)\n",
      "[0. 1.]\n",
      "Image shape before normalization... (480, 480, 3)\n",
      "Image shape after normalization... (480, 480, 3)\n",
      "Shape image: (480, 480, 3)\n",
      "Shape mask: (480, 480, 3)\n",
      "(480, 480, 3)\n",
      "[0. 1.]\n",
      "Image shape before normalization... (480, 480, 3)\n",
      "Image shape after normalization... (480, 480, 3)\n",
      "Shape image: (480, 480, 3)\n",
      "Shape mask: (480, 480, 3)\n",
      "(480, 480, 3)\n",
      "[0. 1.]\n",
      "Image shape before normalization... (480, 480, 3)\n",
      "Image shape after normalization... (480, 480, 3)\n",
      "Shape image: (480, 480, 3)\n",
      "Shape mask: (480, 480, 3)\n",
      "1/1 [==============================] - ETA: 0s - loss: 0.3202 - mean_iou: 0.2264 - weighted_iou: 0.2519 - f1: 0.3508 - precision: 0.3568 - recall: 0.3600 - melt_pond_iou: 0.1142 - sea_ice_iou: 0.4147 - ocean_iou: 0.1502 - mean_iou_rounded: 0.1756(480, 480, 3)\n",
      "[0. 1.]\n",
      "Image shape before normalization... (480, 480, 3)\n",
      "Image shape after normalization... (480, 480, 3)\n",
      "Shape image: (480, 480, 3)\n",
      "Shape mask: (480, 480, 3)\n",
      "(480, 480, 3)\n",
      "[0. 1.]\n",
      "Image shape before normalization... (480, 480, 3)\n",
      "Image shape after normalization... (480, 480, 3)\n",
      "Shape image: (480, 480, 3)\n",
      "Shape mask: (480, 480, 3)\n",
      "(480, 480, 3)\n",
      "[0. 1.]\n",
      "Image shape before normalization... (480, 480, 3)\n",
      "Image shape after normalization... (480, 480, 3)\n",
      "Shape image: (480, 480, 3)\n",
      "Shape mask: (480, 480, 3)\n",
      "1/1 [==============================] - 33s 33s/step - loss: 0.3202 - mean_iou: 0.2264 - weighted_iou: 0.2519 - f1: 0.3508 - precision: 0.3568 - recall: 0.3600 - melt_pond_iou: 0.1142 - sea_ice_iou: 0.4147 - ocean_iou: 0.1502 - mean_iou_rounded: 0.1756 - val_loss: 1.3731 - val_mean_iou: 0.0633 - val_weighted_iou: 0.1212 - val_f1: 0.1176 - val_precision: 0.3670 - val_recall: 0.3485 - val_melt_pond_iou: 0.0943 - val_sea_ice_iou: 0.0400 - val_ocean_iou: 0.0557 - val_mean_iou_rounded: 0.0307\n",
      "Epoch 2/2\n",
      "(480, 480, 3)\n",
      "[0. 1.]\n",
      "Image shape before normalization... (480, 480, 3)\n",
      "Image shape after normalization... (480, 480, 3)\n",
      "Shape image: (480, 480, 3)\n",
      "Shape mask: (480, 480, 3)\n",
      "(480, 480, 3)\n",
      "[0. 1.]\n",
      "Image shape before normalization... (480, 480, 3)\n",
      "Image shape after normalization... (480, 480, 3)\n",
      "Shape image: (480, 480, 3)\n",
      "Shape mask: (480, 480, 3)\n",
      "(480, 480, 3)\n",
      "[0. 1.]\n",
      "Image shape before normalization... (480, 480, 3)\n",
      "Image shape after normalization... (480, 480, 3)\n",
      "Shape image: (480, 480, 3)\n",
      "Shape mask: (480, 480, 3)\n",
      "(480, 480, 3)\n",
      "[0. 1.]\n",
      "Image shape before normalization... (480, 480, 3)\n",
      "Image shape after normalization... (480, 480, 3)\n",
      "Shape image: (480, 480, 3)\n",
      "Shape mask: (480, 480, 3)\n",
      "1/1 [==============================] - ETA: 0s - loss: 0.2824 - mean_iou: 0.2646 - weighted_iou: 0.2903 - f1: 0.3959 - precision: 0.3966 - recall: 0.4035 - melt_pond_iou: 0.1139 - sea_ice_iou: 0.4771 - ocean_iou: 0.2029 - mean_iou_rounded: 0.2666(480, 480, 3)\n",
      "[0. 1.]\n",
      "Image shape before normalization... (480, 480, 3)\n",
      "Image shape after normalization... (480, 480, 3)\n",
      "Shape image: (480, 480, 3)\n",
      "Shape mask: (480, 480, 3)\n",
      "(480, 480, 3)\n",
      "[0. 1.]\n",
      "Image shape before normalization... (480, 480, 3)\n",
      "Image shape after normalization... (480, 480, 3)\n",
      "Shape image: (480, 480, 3)\n",
      "Shape mask: (480, 480, 3)\n",
      "1/1 [==============================] - 17s 17s/step - loss: 0.2824 - mean_iou: 0.2646 - weighted_iou: 0.2903 - f1: 0.3959 - precision: 0.3966 - recall: 0.4035 - melt_pond_iou: 0.1139 - sea_ice_iou: 0.4771 - ocean_iou: 0.2029 - mean_iou_rounded: 0.2666 - val_loss: 1.9812 - val_mean_iou: 0.0615 - val_weighted_iou: 0.1203 - val_f1: 0.1144 - val_precision: 0.3920 - val_recall: 0.3507 - val_melt_pond_iou: 0.0947 - val_sea_ice_iou: 0.0349 - val_ocean_iou: 0.0550 - val_mean_iou_rounded: 0.0313\n",
      "(480, 480, 3)\n",
      "[0. 1.]\n",
      "Image shape before normalization... (480, 480, 3)\n",
      "Image shape after normalization... (480, 480, 3)\n",
      "Shape image: (480, 480, 3)\n",
      "Shape mask: (480, 480, 3)\n",
      "(480, 480, 3)\n",
      "[0. 1.]\n",
      "Image shape before normalization... (480, 480, 3)\n",
      "Image shape after normalization... (480, 480, 3)\n",
      "Shape image: (480, 480, 3)\n",
      "Shape mask: (480, 480, 3)\n",
      "(480, 480, 3)\n",
      "[0. 1.]\n",
      "Image shape before normalization... (480, 480, 3)\n",
      "Image shape after normalization... (480, 480, 3)\n",
      "Shape image: (480, 480, 3)\n",
      "Shape mask: (480, 480, 3)\n"
     ]
    },
    {
     "data": {
      "text/html": [
       "Waiting for W&B process to finish... <strong style=\"color:green\">(success).</strong>"
      ],
      "text/plain": [
       "<IPython.core.display.HTML object>"
      ]
     },
     "metadata": {},
     "output_type": "display_data"
    },
    {
     "data": {
      "text/html": [
       "<style>\n",
       "    table.wandb td:nth-child(1) { padding: 0 10px; text-align: left ; width: auto;} td:nth-child(2) {text-align: left ; width: 100%}\n",
       "    .wandb-row { display: flex; flex-direction: row; flex-wrap: wrap; justify-content: flex-start; width: 100% }\n",
       "    .wandb-col { display: flex; flex-direction: column; flex-basis: 100%; flex: 1; padding: 10px; }\n",
       "    </style>\n",
       "<div class=\"wandb-row\"><div class=\"wandb-col\"><h3>Run history:</h3><br/><table class=\"wandb\"><tr><td>epoch/epoch</td><td>▁█</td></tr><tr><td>epoch/f1</td><td>▁█</td></tr><tr><td>epoch/learning_rate</td><td>▁▁</td></tr><tr><td>epoch/loss</td><td>█▁</td></tr><tr><td>epoch/mean_iou</td><td>▁█</td></tr><tr><td>epoch/mean_iou_rounded</td><td>▁█</td></tr><tr><td>epoch/melt_pond_iou</td><td>█▁</td></tr><tr><td>epoch/ocean_iou</td><td>▁█</td></tr><tr><td>epoch/precision</td><td>▁█</td></tr><tr><td>epoch/recall</td><td>▁█</td></tr><tr><td>epoch/sea_ice_iou</td><td>▁█</td></tr><tr><td>epoch/val_f1</td><td>█▁</td></tr><tr><td>epoch/val_loss</td><td>▁█</td></tr><tr><td>epoch/val_mean_iou</td><td>█▁</td></tr><tr><td>epoch/val_mean_iou_rounded</td><td>▁█</td></tr><tr><td>epoch/val_melt_pond_iou</td><td>▁█</td></tr><tr><td>epoch/val_ocean_iou</td><td>█▁</td></tr><tr><td>epoch/val_precision</td><td>▁█</td></tr><tr><td>epoch/val_recall</td><td>▁█</td></tr><tr><td>epoch/val_sea_ice_iou</td><td>█▁</td></tr><tr><td>epoch/val_weighted_iou</td><td>█▁</td></tr><tr><td>epoch/weighted_iou</td><td>▁█</td></tr></table><br/></div><div class=\"wandb-col\"><h3>Run summary:</h3><br/><table class=\"wandb\"><tr><td>epoch/epoch</td><td>1</td></tr><tr><td>epoch/f1</td><td>0.39595</td></tr><tr><td>epoch/learning_rate</td><td>0.001</td></tr><tr><td>epoch/loss</td><td>0.28242</td></tr><tr><td>epoch/mean_iou</td><td>0.26463</td></tr><tr><td>epoch/mean_iou_rounded</td><td>0.2666</td></tr><tr><td>epoch/melt_pond_iou</td><td>0.11394</td></tr><tr><td>epoch/ocean_iou</td><td>0.20287</td></tr><tr><td>epoch/precision</td><td>0.39657</td></tr><tr><td>epoch/recall</td><td>0.40351</td></tr><tr><td>epoch/sea_ice_iou</td><td>0.47706</td></tr><tr><td>epoch/val_f1</td><td>0.11437</td></tr><tr><td>epoch/val_loss</td><td>1.98116</td></tr><tr><td>epoch/val_mean_iou</td><td>0.06152</td></tr><tr><td>epoch/val_mean_iou_rounded</td><td>0.03128</td></tr><tr><td>epoch/val_melt_pond_iou</td><td>0.09472</td></tr><tr><td>epoch/val_ocean_iou</td><td>0.05497</td></tr><tr><td>epoch/val_precision</td><td>0.392</td></tr><tr><td>epoch/val_recall</td><td>0.35075</td></tr><tr><td>epoch/val_sea_ice_iou</td><td>0.03489</td></tr><tr><td>epoch/val_weighted_iou</td><td>0.12033</td></tr><tr><td>epoch/weighted_iou</td><td>0.29033</td></tr></table><br/></div></div>"
      ],
      "text/plain": [
       "<IPython.core.display.HTML object>"
      ]
     },
     "metadata": {},
     "output_type": "display_data"
    },
    {
     "data": {
      "text/html": [
       " View run <strong style=\"color:#cdcd00\">foldn_2</strong> at: <a href='https://wandb.ai/sea-ice/pond/runs/f9le5jg4' target=\"_blank\">https://wandb.ai/sea-ice/pond/runs/f9le5jg4</a><br/>Synced 5 W&B file(s), 0 media file(s), 0 artifact file(s) and 0 other file(s)"
      ],
      "text/plain": [
       "<IPython.core.display.HTML object>"
      ]
     },
     "metadata": {},
     "output_type": "display_data"
    },
    {
     "data": {
      "text/html": [
       "Find logs at: <code>.\\wandb\\run-20230705_084117-f9le5jg4\\logs</code>"
      ],
      "text/plain": [
       "<IPython.core.display.HTML object>"
      ]
     },
     "metadata": {},
     "output_type": "display_data"
    },
    {
     "name": "stdout",
     "output_type": "stream",
     "text": [
      "Class weights are...: [3.80103935 0.48405802 1.49021079]\n",
      "Train size after patch extraction... (6, 480, 480)\n",
      "Test size after patch extraction... (2, 480, 480)\n",
      "Train size imgs ... (6, 480, 480)\n",
      "Train size masks ... (6, 480, 480)\n",
      "Test size imgs ... (2, 480, 480)\n",
      "Test size masks ... (2, 480, 480)\n"
     ]
    },
    {
     "data": {
      "text/html": [
       "wandb version 0.15.4 is available!  To upgrade, please run:\n",
       " $ pip install wandb --upgrade"
      ],
      "text/plain": [
       "<IPython.core.display.HTML object>"
      ]
     },
     "metadata": {},
     "output_type": "display_data"
    },
    {
     "data": {
      "text/html": [
       "Tracking run with wandb version 0.15.3"
      ],
      "text/plain": [
       "<IPython.core.display.HTML object>"
      ]
     },
     "metadata": {},
     "output_type": "display_data"
    },
    {
     "data": {
      "text/html": [
       "Run data is saved locally in <code>e:\\polar\\code\\ponds\\ponds\\wandb\\run-20230705_084216-ngvixb35</code>"
      ],
      "text/plain": [
       "<IPython.core.display.HTML object>"
      ]
     },
     "metadata": {},
     "output_type": "display_data"
    },
    {
     "data": {
      "text/html": [
       "Syncing run <strong><a href='https://wandb.ai/sea-ice/pond/runs/ngvixb35' target=\"_blank\">foldn_3</a></strong> to <a href='https://wandb.ai/sea-ice/pond' target=\"_blank\">Weights & Biases</a> (<a href='https://wandb.me/run' target=\"_blank\">docs</a>)<br/>"
      ],
      "text/plain": [
       "<IPython.core.display.HTML object>"
      ]
     },
     "metadata": {},
     "output_type": "display_data"
    },
    {
     "data": {
      "text/html": [
       " View project at <a href='https://wandb.ai/sea-ice/pond' target=\"_blank\">https://wandb.ai/sea-ice/pond</a>"
      ],
      "text/plain": [
       "<IPython.core.display.HTML object>"
      ]
     },
     "metadata": {},
     "output_type": "display_data"
    },
    {
     "data": {
      "text/html": [
       " View run at <a href='https://wandb.ai/sea-ice/pond/runs/ngvixb35' target=\"_blank\">https://wandb.ai/sea-ice/pond/runs/ngvixb35</a>"
      ],
      "text/plain": [
       "<IPython.core.display.HTML object>"
      ]
     },
     "metadata": {},
     "output_type": "display_data"
    },
    {
     "name": "stdout",
     "output_type": "stream",
     "text": [
      "Test set size... (2, 480, 480)\n",
      "(480, 480, 3)\n",
      "[0. 1.]\n",
      "Image shape before normalization... (480, 480, 3)\n",
      "Image shape after normalization... (480, 480, 3)\n",
      "Shape image: (480, 480, 3)\n",
      "Shape mask: (480, 480, 3)\n",
      "(480, 480, 3)\n",
      "[0. 1.]\n",
      "Image shape before normalization... (480, 480, 3)\n",
      "Image shape after normalization... (480, 480, 3)\n",
      "Shape image: (480, 480, 3)\n",
      "Shape mask: (480, 480, 3)\n",
      "(480, 480, 3)\n",
      "[0. 1.]\n",
      "Image shape before normalization... (480, 480, 3)\n",
      "Image shape after normalization... (480, 480, 3)\n",
      "Shape image: (480, 480, 3)\n",
      "Shape mask: (480, 480, 3)\n",
      "(480, 480, 3)\n",
      "[0. 1.]\n",
      "Image shape before normalization... (480, 480, 3)\n",
      "Image shape after normalization... (480, 480, 3)\n",
      "Shape image: (480, 480, 3)\n",
      "Shape mask: (480, 480, 3)\n",
      "Epoch 1/2\n",
      "(480, 480, 3)\n",
      "[0. 1.]\n",
      "Image shape before normalization... (480, 480, 3)\n",
      "Image shape after normalization... (480, 480, 3)\n",
      "Shape image: (480, 480, 3)\n",
      "Shape mask: (480, 480, 3)\n",
      "(480, 480, 3)\n",
      "[0. 1.]\n",
      "Image shape before normalization... (480, 480, 3)\n",
      "Image shape after normalization... (480, 480, 3)\n",
      "Shape image: (480, 480, 3)\n",
      "Shape mask: (480, 480, 3)\n",
      "(480, 480, 3)\n",
      "[0. 1.]\n",
      "Image shape before normalization... (480, 480, 3)\n",
      "Image shape after normalization... (480, 480, 3)\n",
      "Shape image: (480, 480, 3)\n",
      "Shape mask: (480, 480, 3)\n",
      "(480, 480, 3)\n",
      "[0. 1.]\n",
      "Image shape before normalization... (480, 480, 3)\n",
      "Image shape after normalization... (480, 480, 3)\n",
      "Shape image: (480, 480, 3)\n",
      "Shape mask: (480, 480, 3)\n",
      "1/1 [==============================] - ETA: 0s - loss: 0.2336 - mean_iou: 0.3004 - weighted_iou: 0.3405 - f1: 0.4320 - precision: 0.4365 - recall: 0.4448 - melt_pond_iou: 0.0959 - sea_ice_iou: 0.5399 - ocean_iou: 0.2655 - mean_iou_rounded: 0.3612(480, 480, 3)\n",
      "[0. 1.]\n",
      "Image shape before normalization... (480, 480, 3)\n",
      "Image shape after normalization... (480, 480, 3)\n",
      "Shape image: (480, 480, 3)\n",
      "Shape mask: (480, 480, 3)\n",
      "(480, 480, 3)\n",
      "[0. 1.]\n",
      "Image shape before normalization... (480, 480, 3)\n",
      "Image shape after normalization... (480, 480, 3)\n",
      "Shape image: (480, 480, 3)\n",
      "Shape mask: (480, 480, 3)\n",
      "(480, 480, 3)\n",
      "[0. 1.]\n",
      "Image shape before normalization... (480, 480, 3)\n",
      "Image shape after normalization... (480, 480, 3)\n",
      "Shape image: (480, 480, 3)\n",
      "Shape mask: (480, 480, 3)\n",
      "1/1 [==============================] - 31s 31s/step - loss: 0.2336 - mean_iou: 0.3004 - weighted_iou: 0.3405 - f1: 0.4320 - precision: 0.4365 - recall: 0.4448 - melt_pond_iou: 0.0959 - sea_ice_iou: 0.5399 - ocean_iou: 0.2655 - mean_iou_rounded: 0.3612 - val_loss: 1.6983 - val_mean_iou: 0.1805 - val_weighted_iou: 0.3441 - val_f1: 0.2794 - val_precision: 0.4446 - val_recall: 0.3948 - val_melt_pond_iou: 0.2317 - val_sea_ice_iou: 0.3080 - val_ocean_iou: 0.0020 - val_mean_iou_rounded: 0.1796\n",
      "Epoch 2/2\n",
      "(480, 480, 3)\n",
      "[0. 1.]\n",
      "Image shape before normalization... (480, 480, 3)\n",
      "Image shape after normalization... (480, 480, 3)\n",
      "Shape image: (480, 480, 3)\n",
      "Shape mask: (480, 480, 3)\n",
      "(480, 480, 3)\n",
      "[0. 1.]\n",
      "Image shape before normalization... (480, 480, 3)\n",
      "Image shape after normalization... (480, 480, 3)\n",
      "Shape image: (480, 480, 3)\n",
      "Shape mask: (480, 480, 3)\n",
      "(480, 480, 3)\n",
      "[0. 1.]\n",
      "Image shape before normalization... (480, 480, 3)\n",
      "Image shape after normalization... (480, 480, 3)\n",
      "Shape image: (480, 480, 3)\n",
      "Shape mask: (480, 480, 3)\n",
      "(480, 480, 3)\n",
      "[0. 1.]\n",
      "Image shape before normalization... (480, 480, 3)\n",
      "Image shape after normalization... (480, 480, 3)\n",
      "Shape image: (480, 480, 3)\n",
      "Shape mask: (480, 480, 3)\n",
      "1/1 [==============================] - ETA: 0s - loss: 0.2311 - mean_iou: 0.3093 - weighted_iou: 0.3509 - f1: 0.4418 - precision: 0.4447 - recall: 0.4573 - melt_pond_iou: 0.0954 - sea_ice_iou: 0.5472 - ocean_iou: 0.2853 - mean_iou_rounded: 0.3704(480, 480, 3)\n",
      "[0. 1.]\n",
      "Image shape before normalization... (480, 480, 3)\n",
      "Image shape after normalization... (480, 480, 3)\n",
      "Shape image: (480, 480, 3)\n",
      "Shape mask: (480, 480, 3)\n",
      "(480, 480, 3)\n",
      "[0. 1.]\n",
      "Image shape before normalization... (480, 480, 3)\n",
      "Image shape after normalization... (480, 480, 3)\n",
      "Shape image: (480, 480, 3)\n",
      "Shape mask: (480, 480, 3)\n",
      "1/1 [==============================] - 17s 17s/step - loss: 0.2311 - mean_iou: 0.3093 - weighted_iou: 0.3509 - f1: 0.4418 - precision: 0.4447 - recall: 0.4573 - melt_pond_iou: 0.0954 - sea_ice_iou: 0.5472 - ocean_iou: 0.2853 - mean_iou_rounded: 0.3704 - val_loss: 2.0771 - val_mean_iou: 0.1019 - val_weighted_iou: 0.2686 - val_f1: 0.1727 - val_precision: 0.3817 - val_recall: 0.3398 - val_melt_pond_iou: 0.1967 - val_sea_ice_iou: 0.1039 - val_ocean_iou: 0.0051 - val_mean_iou_rounded: 0.0721\n",
      "(480, 480, 3)\n",
      "[0. 1.]\n",
      "Image shape before normalization... (480, 480, 3)\n",
      "Image shape after normalization... (480, 480, 3)\n",
      "Shape image: (480, 480, 3)\n",
      "Shape mask: (480, 480, 3)\n",
      "(480, 480, 3)\n",
      "[0. 1.]\n",
      "Image shape before normalization... (480, 480, 3)\n",
      "Image shape after normalization... (480, 480, 3)\n",
      "Shape image: (480, 480, 3)\n",
      "Shape mask: (480, 480, 3)\n",
      "(480, 480, 3)\n",
      "[0. 1.]\n",
      "Image shape before normalization... (480, 480, 3)\n",
      "Image shape after normalization... (480, 480, 3)\n",
      "Shape image: (480, 480, 3)\n",
      "Shape mask: (480, 480, 3)\n"
     ]
    },
    {
     "data": {
      "text/html": [
       "Waiting for W&B process to finish... <strong style=\"color:green\">(success).</strong>"
      ],
      "text/plain": [
       "<IPython.core.display.HTML object>"
      ]
     },
     "metadata": {},
     "output_type": "display_data"
    },
    {
     "data": {
      "text/html": [
       "<style>\n",
       "    table.wandb td:nth-child(1) { padding: 0 10px; text-align: left ; width: auto;} td:nth-child(2) {text-align: left ; width: 100%}\n",
       "    .wandb-row { display: flex; flex-direction: row; flex-wrap: wrap; justify-content: flex-start; width: 100% }\n",
       "    .wandb-col { display: flex; flex-direction: column; flex-basis: 100%; flex: 1; padding: 10px; }\n",
       "    </style>\n",
       "<div class=\"wandb-row\"><div class=\"wandb-col\"><h3>Run history:</h3><br/><table class=\"wandb\"><tr><td>epoch/epoch</td><td>▁█</td></tr><tr><td>epoch/f1</td><td>▁█</td></tr><tr><td>epoch/learning_rate</td><td>▁▁</td></tr><tr><td>epoch/loss</td><td>█▁</td></tr><tr><td>epoch/mean_iou</td><td>▁█</td></tr><tr><td>epoch/mean_iou_rounded</td><td>▁█</td></tr><tr><td>epoch/melt_pond_iou</td><td>█▁</td></tr><tr><td>epoch/ocean_iou</td><td>▁█</td></tr><tr><td>epoch/precision</td><td>▁█</td></tr><tr><td>epoch/recall</td><td>▁█</td></tr><tr><td>epoch/sea_ice_iou</td><td>▁█</td></tr><tr><td>epoch/val_f1</td><td>█▁</td></tr><tr><td>epoch/val_loss</td><td>▁█</td></tr><tr><td>epoch/val_mean_iou</td><td>█▁</td></tr><tr><td>epoch/val_mean_iou_rounded</td><td>█▁</td></tr><tr><td>epoch/val_melt_pond_iou</td><td>█▁</td></tr><tr><td>epoch/val_ocean_iou</td><td>▁█</td></tr><tr><td>epoch/val_precision</td><td>█▁</td></tr><tr><td>epoch/val_recall</td><td>█▁</td></tr><tr><td>epoch/val_sea_ice_iou</td><td>█▁</td></tr><tr><td>epoch/val_weighted_iou</td><td>█▁</td></tr><tr><td>epoch/weighted_iou</td><td>▁█</td></tr></table><br/></div><div class=\"wandb-col\"><h3>Run summary:</h3><br/><table class=\"wandb\"><tr><td>epoch/epoch</td><td>1</td></tr><tr><td>epoch/f1</td><td>0.44184</td></tr><tr><td>epoch/learning_rate</td><td>0.001</td></tr><tr><td>epoch/loss</td><td>0.23113</td></tr><tr><td>epoch/mean_iou</td><td>0.30931</td></tr><tr><td>epoch/mean_iou_rounded</td><td>0.3704</td></tr><tr><td>epoch/melt_pond_iou</td><td>0.09541</td></tr><tr><td>epoch/ocean_iou</td><td>0.28529</td></tr><tr><td>epoch/precision</td><td>0.44473</td></tr><tr><td>epoch/recall</td><td>0.4573</td></tr><tr><td>epoch/sea_ice_iou</td><td>0.54718</td></tr><tr><td>epoch/val_f1</td><td>0.17274</td></tr><tr><td>epoch/val_loss</td><td>2.07711</td></tr><tr><td>epoch/val_mean_iou</td><td>0.10191</td></tr><tr><td>epoch/val_mean_iou_rounded</td><td>0.07213</td></tr><tr><td>epoch/val_melt_pond_iou</td><td>0.19675</td></tr><tr><td>epoch/val_ocean_iou</td><td>0.00514</td></tr><tr><td>epoch/val_precision</td><td>0.38172</td></tr><tr><td>epoch/val_recall</td><td>0.33979</td></tr><tr><td>epoch/val_sea_ice_iou</td><td>0.10387</td></tr><tr><td>epoch/val_weighted_iou</td><td>0.26856</td></tr><tr><td>epoch/weighted_iou</td><td>0.35094</td></tr></table><br/></div></div>"
      ],
      "text/plain": [
       "<IPython.core.display.HTML object>"
      ]
     },
     "metadata": {},
     "output_type": "display_data"
    },
    {
     "data": {
      "text/html": [
       " View run <strong style=\"color:#cdcd00\">foldn_3</strong> at: <a href='https://wandb.ai/sea-ice/pond/runs/ngvixb35' target=\"_blank\">https://wandb.ai/sea-ice/pond/runs/ngvixb35</a><br/>Synced 5 W&B file(s), 0 media file(s), 0 artifact file(s) and 0 other file(s)"
      ],
      "text/plain": [
       "<IPython.core.display.HTML object>"
      ]
     },
     "metadata": {},
     "output_type": "display_data"
    },
    {
     "data": {
      "text/html": [
       "Find logs at: <code>.\\wandb\\run-20230705_084216-ngvixb35\\logs</code>"
      ],
      "text/plain": [
       "<IPython.core.display.HTML object>"
      ]
     },
     "metadata": {},
     "output_type": "display_data"
    },
    {
     "name": "stdout",
     "output_type": "stream",
     "text": [
      "Class weights are...: [2.53542051 0.49744477 1.6797839 ]\n",
      "Train size after patch extraction... (6, 480, 480)\n",
      "Test size after patch extraction... (2, 480, 480)\n",
      "Train size imgs ... (6, 480, 480)\n",
      "Train size masks ... (6, 480, 480)\n",
      "Test size imgs ... (2, 480, 480)\n",
      "Test size masks ... (2, 480, 480)\n"
     ]
    },
    {
     "data": {
      "text/html": [
       "wandb version 0.15.4 is available!  To upgrade, please run:\n",
       " $ pip install wandb --upgrade"
      ],
      "text/plain": [
       "<IPython.core.display.HTML object>"
      ]
     },
     "metadata": {},
     "output_type": "display_data"
    },
    {
     "data": {
      "text/html": [
       "Tracking run with wandb version 0.15.3"
      ],
      "text/plain": [
       "<IPython.core.display.HTML object>"
      ]
     },
     "metadata": {},
     "output_type": "display_data"
    },
    {
     "data": {
      "text/html": [
       "Run data is saved locally in <code>e:\\polar\\code\\ponds\\ponds\\wandb\\run-20230705_084314-n4zphnxt</code>"
      ],
      "text/plain": [
       "<IPython.core.display.HTML object>"
      ]
     },
     "metadata": {},
     "output_type": "display_data"
    },
    {
     "data": {
      "text/html": [
       "Syncing run <strong><a href='https://wandb.ai/sea-ice/pond/runs/n4zphnxt' target=\"_blank\">foldn_4</a></strong> to <a href='https://wandb.ai/sea-ice/pond' target=\"_blank\">Weights & Biases</a> (<a href='https://wandb.me/run' target=\"_blank\">docs</a>)<br/>"
      ],
      "text/plain": [
       "<IPython.core.display.HTML object>"
      ]
     },
     "metadata": {},
     "output_type": "display_data"
    },
    {
     "data": {
      "text/html": [
       " View project at <a href='https://wandb.ai/sea-ice/pond' target=\"_blank\">https://wandb.ai/sea-ice/pond</a>"
      ],
      "text/plain": [
       "<IPython.core.display.HTML object>"
      ]
     },
     "metadata": {},
     "output_type": "display_data"
    },
    {
     "data": {
      "text/html": [
       " View run at <a href='https://wandb.ai/sea-ice/pond/runs/n4zphnxt' target=\"_blank\">https://wandb.ai/sea-ice/pond/runs/n4zphnxt</a>"
      ],
      "text/plain": [
       "<IPython.core.display.HTML object>"
      ]
     },
     "metadata": {},
     "output_type": "display_data"
    },
    {
     "name": "stdout",
     "output_type": "stream",
     "text": [
      "Test set size... (2, 480, 480)\n",
      "(480, 480, 3)\n",
      "[0. 1.]\n",
      "Image shape before normalization... (480, 480, 3)\n",
      "Image shape after normalization... (480, 480, 3)\n",
      "Shape image: (480, 480, 3)\n",
      "Shape mask: (480, 480, 3)\n",
      "(480, 480, 3)\n",
      "[0. 1.]\n",
      "Image shape before normalization... (480, 480, 3)\n",
      "Image shape after normalization... (480, 480, 3)\n",
      "Shape image: (480, 480, 3)\n",
      "Shape mask: (480, 480, 3)\n",
      "(480, 480, 3)\n",
      "[0. 1.]\n",
      "Image shape before normalization... (480, 480, 3)\n",
      "Image shape after normalization... (480, 480, 3)\n",
      "Shape image: (480, 480, 3)\n",
      "Shape mask: (480, 480, 3)\n",
      "(480, 480, 3)\n",
      "[0. 1.]\n",
      "Image shape before normalization... (480, 480, 3)\n",
      "Image shape after normalization... (480, 480, 3)\n",
      "Shape image: (480, 480, 3)\n",
      "Shape mask: (480, 480, 3)\n",
      "Epoch 1/2\n",
      "(480, 480, 3)\n",
      "[0. 1.]\n",
      "Image shape before normalization... (480, 480, 3)\n",
      "Image shape after normalization... (480, 480, 3)\n",
      "Shape image: (480, 480, 3)\n",
      "Shape mask: (480, 480, 3)\n",
      "(480, 480, 3)\n",
      "[0. 1.]\n",
      "Image shape before normalization... (480, 480, 3)\n",
      "Image shape after normalization... (480, 480, 3)\n",
      "Shape image: (480, 480, 3)\n",
      "Shape mask: (480, 480, 3)\n",
      "(480, 480, 3)\n",
      "[0. 1.]\n",
      "Image shape before normalization... (480, 480, 3)\n",
      "Image shape after normalization... (480, 480, 3)\n",
      "Shape image: (480, 480, 3)\n",
      "Shape mask: (480, 480, 3)\n",
      "(480, 480, 3)\n",
      "[0. 1.]\n",
      "Image shape before normalization... (480, 480, 3)\n",
      "Image shape after normalization... (480, 480, 3)\n",
      "Shape image: (480, 480, 3)\n",
      "Shape mask: (480, 480, 3)\n",
      "1/1 [==============================] - ETA: 0s - loss: 0.1896 - mean_iou: 0.3634 - weighted_iou: 0.3951 - f1: 0.4980 - precision: 0.4931 - recall: 0.5115 - melt_pond_iou: 0.1209 - sea_ice_iou: 0.6342 - ocean_iou: 0.3352 - mean_iou_rounded: 0.4630(480, 480, 3)\n",
      "[0. 1.]\n",
      "Image shape before normalization... (480, 480, 3)\n",
      "Image shape after normalization... (480, 480, 3)\n",
      "Shape image: (480, 480, 3)\n",
      "Shape mask: (480, 480, 3)\n",
      "(480, 480, 3)\n",
      "[0. 1.]\n",
      "Image shape before normalization... (480, 480, 3)\n",
      "Image shape after normalization... (480, 480, 3)\n",
      "Shape image: (480, 480, 3)\n",
      "Shape mask: (480, 480, 3)\n",
      "(480, 480, 3)\n",
      "[0. 1.]\n",
      "Image shape before normalization... (480, 480, 3)\n",
      "Image shape after normalization... (480, 480, 3)\n",
      "Shape image: (480, 480, 3)\n",
      "Shape mask: (480, 480, 3)\n",
      "1/1 [==============================] - 32s 32s/step - loss: 0.1896 - mean_iou: 0.3634 - weighted_iou: 0.3951 - f1: 0.4980 - precision: 0.4931 - recall: 0.5115 - melt_pond_iou: 0.1209 - sea_ice_iou: 0.6342 - ocean_iou: 0.3352 - mean_iou_rounded: 0.4630 - val_loss: 2.9424 - val_mean_iou: 0.0360 - val_weighted_iou: 0.0650 - val_f1: 0.0678 - val_precision: 0.3415 - val_recall: 0.3316 - val_melt_pond_iou: 0.0685 - val_sea_ice_iou: 0.0381 - val_ocean_iou: 0.0013 - val_mean_iou_rounded: 0.0268\n",
      "Epoch 2/2\n",
      "(480, 480, 3)\n",
      "[0. 1.]\n",
      "Image shape before normalization... (480, 480, 3)\n",
      "Image shape after normalization... (480, 480, 3)\n",
      "Shape image: (480, 480, 3)\n",
      "Shape mask: (480, 480, 3)\n",
      "(480, 480, 3)\n",
      "[0. 1.]\n",
      "Image shape before normalization... (480, 480, 3)\n",
      "Image shape after normalization... (480, 480, 3)\n",
      "Shape image: (480, 480, 3)\n",
      "Shape mask: (480, 480, 3)\n",
      "(480, 480, 3)\n",
      "[0. 1.]\n",
      "Image shape before normalization... (480, 480, 3)\n",
      "Image shape after normalization... (480, 480, 3)\n",
      "Shape image: (480, 480, 3)\n",
      "Shape mask: (480, 480, 3)\n",
      "(480, 480, 3)\n",
      "[0. 1.]\n",
      "Image shape before normalization... (480, 480, 3)\n",
      "Image shape after normalization... (480, 480, 3)\n",
      "Shape image: (480, 480, 3)\n",
      "Shape mask: (480, 480, 3)\n",
      "1/1 [==============================] - ETA: 0s - loss: 0.1701 - mean_iou: 0.3972 - weighted_iou: 0.4476 - f1: 0.5352 - precision: 0.5272 - recall: 0.5515 - melt_pond_iou: 0.1461 - sea_ice_iou: 0.6629 - ocean_iou: 0.3825 - mean_iou_rounded: 0.5184(480, 480, 3)\n",
      "[0. 1.]\n",
      "Image shape before normalization... (480, 480, 3)\n",
      "Image shape after normalization... (480, 480, 3)\n",
      "Shape image: (480, 480, 3)\n",
      "Shape mask: (480, 480, 3)\n",
      "(480, 480, 3)\n",
      "[0. 1.]\n",
      "Image shape before normalization... (480, 480, 3)\n",
      "Image shape after normalization... (480, 480, 3)\n",
      "Shape image: (480, 480, 3)\n",
      "Shape mask: (480, 480, 3)\n",
      "1/1 [==============================] - 17s 17s/step - loss: 0.1701 - mean_iou: 0.3972 - weighted_iou: 0.4476 - f1: 0.5352 - precision: 0.5272 - recall: 0.5515 - melt_pond_iou: 0.1461 - sea_ice_iou: 0.6629 - ocean_iou: 0.3825 - mean_iou_rounded: 0.5184 - val_loss: 3.8101 - val_mean_iou: 0.0400 - val_weighted_iou: 0.0667 - val_f1: 0.0746 - val_precision: 0.3282 - val_recall: 0.3337 - val_melt_pond_iou: 0.0686 - val_sea_ice_iou: 0.0511 - val_ocean_iou: 3.8431e-04 - val_mean_iou_rounded: 0.0352\n",
      "(480, 480, 3)\n",
      "[0. 1.]\n",
      "Image shape before normalization... (480, 480, 3)\n",
      "Image shape after normalization... (480, 480, 3)\n",
      "Shape image: (480, 480, 3)\n",
      "Shape mask: (480, 480, 3)\n",
      "(480, 480, 3)\n",
      "[0. 1.]\n",
      "Image shape before normalization... (480, 480, 3)\n",
      "Image shape after normalization... (480, 480, 3)\n",
      "Shape image: (480, 480, 3)\n",
      "Shape mask: (480, 480, 3)\n",
      "(480, 480, 3)\n",
      "[0. 1.]\n",
      "Image shape before normalization... (480, 480, 3)\n",
      "Image shape after normalization... (480, 480, 3)\n",
      "Shape image: (480, 480, 3)\n",
      "Shape mask: (480, 480, 3)\n"
     ]
    },
    {
     "data": {
      "text/html": [
       "Waiting for W&B process to finish... <strong style=\"color:green\">(success).</strong>"
      ],
      "text/plain": [
       "<IPython.core.display.HTML object>"
      ]
     },
     "metadata": {},
     "output_type": "display_data"
    },
    {
     "data": {
      "text/html": [
       "<style>\n",
       "    table.wandb td:nth-child(1) { padding: 0 10px; text-align: left ; width: auto;} td:nth-child(2) {text-align: left ; width: 100%}\n",
       "    .wandb-row { display: flex; flex-direction: row; flex-wrap: wrap; justify-content: flex-start; width: 100% }\n",
       "    .wandb-col { display: flex; flex-direction: column; flex-basis: 100%; flex: 1; padding: 10px; }\n",
       "    </style>\n",
       "<div class=\"wandb-row\"><div class=\"wandb-col\"><h3>Run history:</h3><br/><table class=\"wandb\"><tr><td>epoch/epoch</td><td>▁█</td></tr><tr><td>epoch/f1</td><td>▁█</td></tr><tr><td>epoch/learning_rate</td><td>▁▁</td></tr><tr><td>epoch/loss</td><td>█▁</td></tr><tr><td>epoch/mean_iou</td><td>▁█</td></tr><tr><td>epoch/mean_iou_rounded</td><td>▁█</td></tr><tr><td>epoch/melt_pond_iou</td><td>▁█</td></tr><tr><td>epoch/ocean_iou</td><td>▁█</td></tr><tr><td>epoch/precision</td><td>▁█</td></tr><tr><td>epoch/recall</td><td>▁█</td></tr><tr><td>epoch/sea_ice_iou</td><td>▁█</td></tr><tr><td>epoch/val_f1</td><td>▁█</td></tr><tr><td>epoch/val_loss</td><td>▁█</td></tr><tr><td>epoch/val_mean_iou</td><td>▁█</td></tr><tr><td>epoch/val_mean_iou_rounded</td><td>▁█</td></tr><tr><td>epoch/val_melt_pond_iou</td><td>▁█</td></tr><tr><td>epoch/val_ocean_iou</td><td>█▁</td></tr><tr><td>epoch/val_precision</td><td>█▁</td></tr><tr><td>epoch/val_recall</td><td>▁█</td></tr><tr><td>epoch/val_sea_ice_iou</td><td>▁█</td></tr><tr><td>epoch/val_weighted_iou</td><td>▁█</td></tr><tr><td>epoch/weighted_iou</td><td>▁█</td></tr></table><br/></div><div class=\"wandb-col\"><h3>Run summary:</h3><br/><table class=\"wandb\"><tr><td>epoch/epoch</td><td>1</td></tr><tr><td>epoch/f1</td><td>0.53521</td></tr><tr><td>epoch/learning_rate</td><td>0.001</td></tr><tr><td>epoch/loss</td><td>0.1701</td></tr><tr><td>epoch/mean_iou</td><td>0.39715</td></tr><tr><td>epoch/mean_iou_rounded</td><td>0.51835</td></tr><tr><td>epoch/melt_pond_iou</td><td>0.14611</td></tr><tr><td>epoch/ocean_iou</td><td>0.38254</td></tr><tr><td>epoch/precision</td><td>0.52717</td></tr><tr><td>epoch/recall</td><td>0.55146</td></tr><tr><td>epoch/sea_ice_iou</td><td>0.66289</td></tr><tr><td>epoch/val_f1</td><td>0.07458</td></tr><tr><td>epoch/val_loss</td><td>3.81007</td></tr><tr><td>epoch/val_mean_iou</td><td>0.04003</td></tr><tr><td>epoch/val_mean_iou_rounded</td><td>0.03524</td></tr><tr><td>epoch/val_melt_pond_iou</td><td>0.06858</td></tr><tr><td>epoch/val_ocean_iou</td><td>0.00038</td></tr><tr><td>epoch/val_precision</td><td>0.32818</td></tr><tr><td>epoch/val_recall</td><td>0.33372</td></tr><tr><td>epoch/val_sea_ice_iou</td><td>0.05112</td></tr><tr><td>epoch/val_weighted_iou</td><td>0.06665</td></tr><tr><td>epoch/weighted_iou</td><td>0.4476</td></tr></table><br/></div></div>"
      ],
      "text/plain": [
       "<IPython.core.display.HTML object>"
      ]
     },
     "metadata": {},
     "output_type": "display_data"
    },
    {
     "data": {
      "text/html": [
       " View run <strong style=\"color:#cdcd00\">foldn_4</strong> at: <a href='https://wandb.ai/sea-ice/pond/runs/n4zphnxt' target=\"_blank\">https://wandb.ai/sea-ice/pond/runs/n4zphnxt</a><br/>Synced 5 W&B file(s), 0 media file(s), 0 artifact file(s) and 0 other file(s)"
      ],
      "text/plain": [
       "<IPython.core.display.HTML object>"
      ]
     },
     "metadata": {},
     "output_type": "display_data"
    },
    {
     "data": {
      "text/html": [
       "Find logs at: <code>.\\wandb\\run-20230705_084314-n4zphnxt\\logs</code>"
      ],
      "text/plain": [
       "<IPython.core.display.HTML object>"
      ]
     },
     "metadata": {},
     "output_type": "display_data"
    },
    {
     "name": "stdout",
     "output_type": "stream",
     "text": [
      "4\n",
      "------------------------------------------------------------------------\n",
      "Score per fold\n",
      "------------------------------------------------------------------------\n",
      "> Fold 1 - Loss: 1.6379668712615967 - IoU: 0.04640238732099533%\n",
      "------------------------------------------------------------------------\n",
      "> Fold 2 - Loss: 1.9811596870422363 - IoU: 0.06152138113975525%\n",
      "------------------------------------------------------------------------\n",
      "> Fold 3 - Loss: 2.077106475830078 - IoU: 0.10191217064857483%\n",
      "------------------------------------------------------------------------\n",
      "> Fold 4 - Loss: 3.810067653656006 - IoU: 0.040028467774391174%\n",
      "------------------------------------------------------------------------\n",
      "Average scores for all folds:\n",
      "> IoU: 0.062466101720929146 (+- 0.02407475435109641)\n",
      "> Loss: 2.3765751719474792\n",
      "------------------------------------------------------------------------\n",
      "Best run\n",
      "Best averaged val_iou is 0.10520666744560003 in epoch 1\n"
     ]
    }
   ],
   "source": [
    "import numpy as np\n",
    "from train import train_wrapper\n",
    "import cv2\n",
    "import os\n",
    "\n",
    "times = []\n",
    "\n",
    "images = np.load('E:/polar/code/data/ir/entire/original_size/ims_raw_np/480_im.npy')\n",
    "masks = np.load('E:/polar/code/data/ir/entire/original_size/ims_raw_np/480_ma.npy')\n",
    "\n",
    "_, _, stats, hist2 = train_wrapper(images, masks, epochs=2, use_dropout=True, im_size=480, batch_size=4, train_transfer='imagenet', backbone='resnet34', base_pref='test_')\n",
    "\n",
    "# save stats (to see if the same)\n",
    "# save hist (to compare among other hyperparameters)\n"
   ]
  },
  {
   "cell_type": "code",
   "execution_count": 2,
   "metadata": {},
   "outputs": [
    {
     "name": "stdout",
     "output_type": "stream",
     "text": [
      "(1, 0.10520666744560003)\n"
     ]
    }
   ],
   "source": [
    "print(hist2)"
   ]
  }
 ],
 "metadata": {
  "kernelspec": {
   "display_name": "sea_ice",
   "language": "python",
   "name": "python3"
  },
  "language_info": {
   "codemirror_mode": {
    "name": "ipython",
    "version": 3
   },
   "file_extension": ".py",
   "mimetype": "text/x-python",
   "name": "python",
   "nbconvert_exporter": "python",
   "pygments_lexer": "ipython3",
   "version": "3.10.0"
  },
  "orig_nbformat": 4
 },
 "nbformat": 4,
 "nbformat_minor": 2
}
