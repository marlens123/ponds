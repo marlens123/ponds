{
 "cells": [
  {
   "cell_type": "code",
   "execution_count": null,
   "metadata": {},
   "outputs": [],
   "source": [
    "import cv2\n",
    "import os"
   ]
  },
  {
   "cell_type": "code",
   "execution_count": null,
   "metadata": {},
   "outputs": [],
   "source": [
    "# python ossp_process.py 'E:/polar/code/data/vis/segment/' 'srgb' 'E:/polar/code/ponds/ponds/vis_segmentation/OSSP-wright/training_datasets/icebridge_v5_training_data.h5' -v"
   ]
  },
  {
   "cell_type": "code",
   "execution_count": null,
   "metadata": {},
   "outputs": [],
   "source": [
    "vis_segment_dir = None\n",
    "\n",
    "vis_mpf_list = []\n",
    "\n",
    "for i in os.listdir(vis_segment_dir):\n",
    "    # if ends with .tif\n",
    "    cv2.imread(os.path.join(vis_segment_dir, i))\n",
    "    # calculate mpf\n",
    "    # add to mpf list\n",
    "\n",
    "# average mpf list"
   ]
  },
  {
   "cell_type": "code",
   "execution_count": null,
   "metadata": {},
   "outputs": [],
   "source": [
    "ir_segment_dir = None\n",
    "\n",
    "ir_mpf_list = []\n",
    "\n",
    "for i in os.listdir(ir_segment_dir):\n",
    "    cv2.imread(os.path.join(ir_segment_dir, i))\n",
    "    # predict image with final model\n",
    "    # postprocess image (if necessary)\n",
    "    # calculate mpf \n",
    "    # add to mpf list\n",
    "\n",
    "# average mpf list"
   ]
  }
 ],
 "metadata": {
  "language_info": {
   "name": "python"
  },
  "orig_nbformat": 4
 },
 "nbformat": 4,
 "nbformat_minor": 2
}
