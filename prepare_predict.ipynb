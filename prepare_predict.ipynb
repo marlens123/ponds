{
 "cells": [
  {
   "cell_type": "code",
   "execution_count": 5,
   "metadata": {},
   "outputs": [],
   "source": [
    "import netCDF4\n",
    "import matplotlib.pyplot as plt\n",
    "import numpy as np\n",
    "\n",
    "from utils.image_transform import crop_center_square"
   ]
  },
  {
   "cell_type": "code",
   "execution_count": 2,
   "metadata": {},
   "outputs": [],
   "source": [
    "flight9_dir = 'E:/polar/code/data/flight9/IRdata_ATWAICE_processed_220718_142920.nc'\n",
    "flight16_dir = 'E:/polar/code/data/flight16/IRdata_ATWAICE_processed_220730_111439.nc'"
   ]
  },
  {
   "cell_type": "code",
   "execution_count": 4,
   "metadata": {},
   "outputs": [
    {
     "ename": "NameError",
     "evalue": "name 'crop_center_square' is not defined",
     "output_type": "error",
     "traceback": [
      "\u001b[1;31m---------------------------------------------------------------------------\u001b[0m",
      "\u001b[1;31mNameError\u001b[0m                                 Traceback (most recent call last)",
      "\u001b[1;32me:\\polar\\code\\ponds\\ponds\\prepare_predict.ipynb Cell 3\u001b[0m in \u001b[0;36m1\n\u001b[0;32m      <a href='vscode-notebook-cell:/e%3A/polar/code/ponds/ponds/prepare_predict.ipynb#W2sZmlsZQ%3D%3D?line=8'>9</a>\u001b[0m tmp \u001b[39m=\u001b[39m []\n\u001b[0;32m     <a href='vscode-notebook-cell:/e%3A/polar/code/ponds/ponds/prepare_predict.ipynb#W2sZmlsZQ%3D%3D?line=10'>11</a>\u001b[0m \u001b[39mfor\u001b[39;00m im \u001b[39min\u001b[39;00m imgs_flight9:\n\u001b[1;32m---> <a href='vscode-notebook-cell:/e%3A/polar/code/ponds/ponds/prepare_predict.ipynb#W2sZmlsZQ%3D%3D?line=11'>12</a>\u001b[0m     im \u001b[39m=\u001b[39m crop_center_square(im)\n\u001b[0;32m     <a href='vscode-notebook-cell:/e%3A/polar/code/ponds/ponds/prepare_predict.ipynb#W2sZmlsZQ%3D%3D?line=12'>13</a>\u001b[0m     tmp\u001b[39m.\u001b[39mappend(im)\n\u001b[0;32m     <a href='vscode-notebook-cell:/e%3A/polar/code/ponds/ponds/prepare_predict.ipynb#W2sZmlsZQ%3D%3D?line=14'>15</a>\u001b[0m imgs_flight9 \u001b[39m=\u001b[39m tmp\n",
      "\u001b[1;31mNameError\u001b[0m: name 'crop_center_square' is not defined"
     ]
    }
   ],
   "source": [
    "#### Convert netcdf data to numpy array ####\n",
    "ds = netCDF4.Dataset(flight9_dir)\n",
    "imgs = ds.variables['Ts'][:]\n",
    "timestamps = ds.variables['time'][:]\n",
    "\n",
    "# images to predict from flight 9\n",
    "imgs_flight9 = [imgs[27],imgs[878],imgs[1929],imgs[4572],imgs[2405],imgs[3168],imgs[2028]]\n",
    "\n",
    "tmp = []\n",
    "\n"
   ]
  },
  {
   "cell_type": "code",
   "execution_count": 6,
   "metadata": {},
   "outputs": [],
   "source": [
    "for im in imgs_flight9:\n",
    "    im = crop_center_square(im)\n",
    "    tmp.append(im)\n",
    "\n",
    "imgs_flight9 = tmp\n",
    "\n",
    "for idx, img in enumerate(imgs_flight9):\n",
    "    plt.imsave('E:/polar/code/data/evaluation/qualitative/flight9/{}.png'.format(idx), img, cmap='gray')"
   ]
  },
  {
   "cell_type": "code",
   "execution_count": 7,
   "metadata": {},
   "outputs": [],
   "source": [
    "#### Convert netcdf data to numpy array ####\n",
    "ds = netCDF4.Dataset(flight16_dir)\n",
    "imgs = ds.variables['Ts'][:]\n",
    "timestamps = ds.variables['time'][:]\n",
    "\n",
    "# images to predict from flight 16\n",
    "imgs_flight16 = [imgs[63],imgs[310],imgs[390],imgs[599],imgs[728],imgs[917],imgs[1007]]\n",
    "\n",
    "tmp = []\n",
    "\n",
    "for im in imgs_flight16:\n",
    "    im = crop_center_square(im)\n",
    "    tmp.append(im)\n",
    "\n",
    "imgs_flight16 = tmp\n",
    "\n",
    "for idx, img in enumerate(imgs_flight16):\n",
    "    plt.imsave('E:/polar/code/data/evaluation/qualitative/flight16/{}.png'.format(idx), img, cmap='gray')"
   ]
  }
 ],
 "metadata": {
  "kernelspec": {
   "display_name": "sea_ice",
   "language": "python",
   "name": "python3"
  },
  "language_info": {
   "codemirror_mode": {
    "name": "ipython",
    "version": 3
   },
   "file_extension": ".py",
   "mimetype": "text/x-python",
   "name": "python",
   "nbconvert_exporter": "python",
   "pygments_lexer": "ipython3",
   "version": "3.10.0"
  },
  "orig_nbformat": 4
 },
 "nbformat": 4,
 "nbformat_minor": 2
}
