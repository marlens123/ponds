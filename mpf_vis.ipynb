{
 "cells": [
  {
   "cell_type": "code",
   "execution_count": 1,
   "metadata": {},
   "outputs": [],
   "source": [
    "import cv2\n",
    "import os\n",
    "import numpy as np\n",
    "import string\n",
    "import random\n",
    "import shutil"
   ]
  },
  {
   "cell_type": "code",
   "execution_count": 2,
   "metadata": {},
   "outputs": [],
   "source": [
    "def select_random_files(folder_path, num_files=10, destination_folder=''):\n",
    "    all_files = os.listdir(folder_path)\n",
    "    random_files = random.sample(all_files, min(num_files, len(all_files)))\n",
    "    \n",
    "    if not os.path.exists(destination_folder):\n",
    "        os.makedirs(destination_folder)\n",
    "    \n",
    "    for file_name in random_files:\n",
    "        source_file = os.path.join(folder_path, file_name)\n",
    "        destination_file = os.path.join(destination_folder, file_name)\n",
    "        shutil.copy2(source_file, destination_file)\n",
    "    \n",
    "    return random_files"
   ]
  },
  {
   "cell_type": "code",
   "execution_count": 3,
   "metadata": {},
   "outputs": [],
   "source": [
    "imgs = select_random_files('E:/polar/code/data/vis/entire_raw/', num_files=50, destination_folder='E:/polar/code/data/evaluation/mpf/vis')"
   ]
  },
  {
   "cell_type": "code",
   "execution_count": 4,
   "metadata": {},
   "outputs": [],
   "source": [
    "vis_dir = 'E:/polar/code/data/evaluation/mpf/vis'\n",
    "\n",
    "timestamps = []\n",
    "\n",
    "for f in os.listdir(vis_dir):\n",
    "    name = f\n",
    "    first_underscore_index = f.index('_')\n",
    "    second_underscore_index = f.index('_', first_underscore_index + 1)\n",
    "    stamp = f[first_underscore_index + 1:second_underscore_index]\n",
    "    \n",
    "    timestamps.append(stamp)"
   ]
  },
  {
   "cell_type": "code",
   "execution_count": 6,
   "metadata": {},
   "outputs": [
    {
     "name": "stdout",
     "output_type": "stream",
     "text": [
      "['143510', '143718', '143734', '143902', '144238', '144446', '144454', '144550', '144702', '145030', '145038', '145110', '145150', '145310', '145350', '145542', '145630', '145950', '150030', '150038', '150126', '150150', '150454', '150726', '150926', '151342', '151622', '152150', '152750', '153038', '153230', '153406', '153414', '153502', '153814', '154142', '154158', '154406', '154814', '154830', '154854', '155014', '155022', '155246', '155342', '155414', '155534', '155622', '155646', '155726']\n"
     ]
    }
   ],
   "source": [
    "print(timestamps)"
   ]
  },
  {
   "cell_type": "code",
   "execution_count": null,
   "metadata": {},
   "outputs": [],
   "source": [
    "def check_files(folder_path, string, destination_folder):\n",
    "    files_with_number = []\n",
    "    \n",
    "    for file_name in os.listdir(folder_path):\n",
    "        if string in file_name:\n",
    "            source_file = os.path.join(folder_path, file_name)\n",
    "            destination_file = os.path.join(destination_folder, file_name)\n",
    "            shutil.copy2(source_file, destination_file)"
   ]
  },
  {
   "cell_type": "code",
   "execution_count": null,
   "metadata": {},
   "outputs": [],
   "source": [
    "for t in timestamps:\n",
    "    check_files('E:/polar/Flight9/ir_all/', t, 'E:/polar/code/data/evaluation/mpf/ir')"
   ]
  }
 ],
 "metadata": {
  "kernelspec": {
   "display_name": "sea_ice",
   "language": "python",
   "name": "python3"
  },
  "language_info": {
   "codemirror_mode": {
    "name": "ipython",
    "version": 3
   },
   "file_extension": ".py",
   "mimetype": "text/x-python",
   "name": "python",
   "nbconvert_exporter": "python",
   "pygments_lexer": "ipython3",
   "version": "3.10.0"
  },
  "orig_nbformat": 4
 },
 "nbformat": 4,
 "nbformat_minor": 2
}
