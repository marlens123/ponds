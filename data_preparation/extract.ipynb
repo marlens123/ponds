{
 "cells": [
  {
   "cell_type": "code",
   "execution_count": 1,
   "metadata": {},
   "outputs": [],
   "source": [
    "import numpy as np\n",
    "from PIL import Image\n",
    "import netCDF4\n",
    "import matplotlib.pyplot as plt\n",
    "import os\n",
    "import pandas as pd\n",
    "from datetime import timedelta\n",
    "from skimage.transform import resize\n",
    "from scipy.interpolate import interp2d"
   ]
  },
  {
   "cell_type": "code",
   "execution_count": null,
   "metadata": {},
   "outputs": [],
   "source": [
    "# path to .nc file\n",
    "nc = 'E:/polar/code/data/flight9/IRdata_ATWAICE_processed_220718_142920.nc'\n",
    "ds = netCDF4.Dataset(nc)"
   ]
  },
  {
   "cell_type": "code",
   "execution_count": 2,
   "metadata": {},
   "outputs": [],
   "source": [
    "# flight 16\n",
    "nc = 'E:/polar/code/data/flight16/IRdata_ATWAICE_processed_220730_111439.nc'\n",
    "ds = netCDF4.Dataset(nc)"
   ]
  },
  {
   "cell_type": "code",
   "execution_count": 3,
   "metadata": {},
   "outputs": [
    {
     "name": "stdout",
     "output_type": "stream",
     "text": [
      "(4608, 480, 640)\n"
     ]
    }
   ],
   "source": [
    "ds_size = len(ds.dimensions['t'])\n",
    "\n",
    "# convert images and timestamps to numpy arrays\n",
    "imgs = ds.variables['Ts'][:]\n",
    "\n",
    "print(imgs.shape)\n",
    "\n",
    "xd = ds.variables['xd'][:]\n",
    "yd = ds.variables['yd'][:]\n",
    "\n",
    "timestamps = ds.variables['time'][:]"
   ]
  },
  {
   "cell_type": "code",
   "execution_count": null,
   "metadata": {},
   "outputs": [],
   "source": [
    "def extract_time(img_idx, timestamps):\n",
    "    reference = '2022-07-18 00:00:00'\n",
    "\n",
    "    times = pd.Series(timestamps)\n",
    "    date = pd.Timestamp(reference)\n",
    "    time = str(date + timedelta(seconds=int(times[img_idx])))\n",
    "\n",
    "    return time"
   ]
  },
  {
   "cell_type": "code",
   "execution_count": null,
   "metadata": {},
   "outputs": [],
   "source": [
    "# saves memory\n",
    "\n",
    "def extract(dataset, dataset_size, time):\n",
    "    idx = 0\n",
    "    \n",
    "    for i in range(dataset_size):\n",
    "        if(i % 4 == 0):\n",
    "            timestamp = extract_time(i, time).replace(' ','_').replace(':','').replace('-','')\n",
    "            img = dataset[i]\n",
    "\n",
    "            # clip for better visibility\n",
    "            img = np.clip(img, 273, 276)\n",
    "            plt.imsave('F:/flight16/{}_{}.png'.format(timestamp,idx), img, cmap='cividis')\n",
    "            #plt.imsave('E:/polar/Flight9/ir_four/{}_{}.png'.format(timestamp,idx), img, cmap='cividis')\n",
    "            idx = idx + 1"
   ]
  },
  {
   "cell_type": "code",
   "execution_count": null,
   "metadata": {},
   "outputs": [],
   "source": [
    "def extract_all(dataset, dataset_size, time):\n",
    "    idx = 0\n",
    "    \n",
    "    for i in range(dataset_size):\n",
    "        timestamp = extract_time(i, time).replace(' ','_').replace(':','').replace('-','')\n",
    "        img = dataset[i]\n",
    "\n",
    "        # clip for better visibility\n",
    "        img = np.clip(img, 273, 276)\n",
    "        plt.imsave('E:/polar/Flight9/ir_all/{}_{}.png'.format(timestamp,idx), img, cmap='cividis')\n",
    "        idx = idx + 1"
   ]
  },
  {
   "cell_type": "code",
   "execution_count": null,
   "metadata": {},
   "outputs": [],
   "source": [
    "extract(imgs, ds_size, timestamps)"
   ]
  },
  {
   "cell_type": "code",
   "execution_count": null,
   "metadata": {},
   "outputs": [],
   "source": [
    "extract_all(imgs, ds_size, timestamps)"
   ]
  }
 ],
 "metadata": {
  "kernelspec": {
   "display_name": "sea_ice",
   "language": "python",
   "name": "python3"
  },
  "language_info": {
   "codemirror_mode": {
    "name": "ipython",
    "version": 3
   },
   "file_extension": ".py",
   "mimetype": "text/x-python",
   "name": "python",
   "nbconvert_exporter": "python",
   "pygments_lexer": "ipython3",
   "version": "3.10.0"
  },
  "orig_nbformat": 4
 },
 "nbformat": 4,
 "nbformat_minor": 2
}
