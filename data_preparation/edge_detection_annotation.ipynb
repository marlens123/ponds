{
 "cells": [
  {
   "cell_type": "code",
   "execution_count": null,
   "metadata": {},
   "outputs": [],
   "source": [
    "import numpy as np\n",
    "from PIL import Image, ImageFilter\n",
    "from skimage import filters\n",
    "from skimage.filters import try_all_threshold\n",
    "from skimage.transform import resize\n",
    "import os\n",
    "import matplotlib.pyplot as plt\n",
    "import cv2"
   ]
  },
  {
   "cell_type": "code",
   "execution_count": null,
   "metadata": {},
   "outputs": [],
   "source": [
    "# test 20.04.2023\n",
    "img = cv2.imread('E:/polar/Flight9/ir_all/20220718_145158_1024.png')\n",
    "img = cv2.cvtColor(img, cv2.COLOR_RGB2GRAY)\n",
    "img = resize(img, (2345,3210))\n",
    "\n",
    "plt.imsave('E:/test/potential_ir/1024_orig_size.png', img, cmap='cividis')"
   ]
  },
  {
   "cell_type": "code",
   "execution_count": null,
   "metadata": {},
   "outputs": [],
   "source": [
    "wd = os.getcwd()\n",
    "#os.chdir('/Users/marle/polar/Flight9/data')\n",
    "os.chdir('/Users/marle/polar/models/data/test/images/img')\n",
    "\n",
    "# read image with PIL and convert it to grayscale\n",
    "#ir_pil = Image.open('potential/20220718_151838_656.png').convert('L')\n",
    "\n",
    "#ir_pil = Image.open('2.png')\n",
    "ir_np = np.array(ir_pil)\n",
    "res_ir = resize(ir_np, (2345,3210))\n",
    "\n",
    "#opt_pil = Image.open('optical/151510_cropped.jpg').convert('L')\n",
    "#opt_np = np.array(opt_pil)\n",
    "#res_opt = resize(opt_np, (2345,3210))"
   ]
  },
  {
   "cell_type": "code",
   "execution_count": null,
   "metadata": {},
   "outputs": [],
   "source": [
    "fig, ax = try_all_threshold(img, figsize=(10, 8), verbose=False)\n",
    "plt.show()"
   ]
  },
  {
   "cell_type": "code",
   "execution_count": null,
   "metadata": {},
   "outputs": [],
   "source": [
    "def create_mask(image):\n",
    "    # first thresholding, then denoising creates clearer masks\n",
    "    thrs = filters.threshold_otsu(image)\n",
    "    binary = image > thrs\n",
    "\n",
    "    # denoise\n",
    "    img_blurred = filters.scharr(binary)\n",
    "    img_blurred[(img_blurred>0)] = 255\n",
    "\n",
    "    #binary_res = resize(img_blurred2, (2345,3210))\n",
    "\n",
    "    plt.imshow(img_blurred, cmap='Greys')\n",
    "    plt.imsave('E:/test/potential_ir/1024_orig_size_mask.png', img_blurred, cmap='Greys')\n",
    "    \"\"\"\n",
    "    plt.imsave('potential/20220718_151838_656_mean.png', img_blurred, cmap='Greys')\n",
    "    \"\"\""
   ]
  },
  {
   "cell_type": "code",
   "execution_count": null,
   "metadata": {},
   "outputs": [],
   "source": [
    "#create_mask(res_ir)\n",
    "create_mask(img)"
   ]
  }
 ],
 "metadata": {
  "language_info": {
   "name": "python"
  },
  "orig_nbformat": 4
 },
 "nbformat": 4,
 "nbformat_minor": 2
}
